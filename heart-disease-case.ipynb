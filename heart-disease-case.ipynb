{
 "cells": [
  {
   "cell_type": "code",
   "execution_count": 1,
   "id": "8c6b2d33",
   "metadata": {
    "_cell_guid": "b1076dfc-b9ad-4769-8c92-a6c4dae69d19",
    "_uuid": "8f2839f25d086af736a60e9eeb907d3b93b6e0e5",
    "execution": {
     "iopub.execute_input": "2024-02-28T19:04:19.193074Z",
     "iopub.status.busy": "2024-02-28T19:04:19.192699Z",
     "iopub.status.idle": "2024-02-28T19:04:21.517699Z",
     "shell.execute_reply": "2024-02-28T19:04:21.516411Z"
    },
    "papermill": {
     "duration": 2.340672,
     "end_time": "2024-02-28T19:04:21.520406",
     "exception": false,
     "start_time": "2024-02-28T19:04:19.179734",
     "status": "completed"
    },
    "tags": []
   },
   "outputs": [],
   "source": [
    "import numpy as np\n",
    "import pandas as pd\n",
    "import matplotlib.pyplot as plt\n",
    "%matplotlib inline\n",
    "import seaborn as sns\n",
    "sns.set_style('whitegrid')"
   ]
  },
  {
   "cell_type": "code",
   "execution_count": 2,
   "id": "d636663a",
   "metadata": {
    "execution": {
     "iopub.execute_input": "2024-02-28T19:04:21.544815Z",
     "iopub.status.busy": "2024-02-28T19:04:21.544267Z",
     "iopub.status.idle": "2024-02-28T19:04:22.175984Z",
     "shell.execute_reply": "2024-02-28T19:04:22.174846Z"
    },
    "papermill": {
     "duration": 0.646628,
     "end_time": "2024-02-28T19:04:22.178498",
     "exception": false,
     "start_time": "2024-02-28T19:04:21.531870",
     "status": "completed"
    },
    "tags": []
   },
   "outputs": [],
   "source": [
    "from sklearn.model_selection import train_test_split\n",
    "from sklearn.metrics import accuracy_score, classification_report, confusion_matrix\n",
    "from sklearn.preprocessing import StandardScaler\n",
    "\n",
    "from sklearn.linear_model import LogisticRegression\n",
    "from sklearn.tree import DecisionTreeClassifier\n",
    "from sklearn.ensemble import AdaBoostClassifier, RandomForestClassifier\n",
    "from sklearn.neighbors import KNeighborsClassifier"
   ]
  },
  {
   "cell_type": "code",
   "execution_count": 3,
   "id": "22041a3a",
   "metadata": {
    "execution": {
     "iopub.execute_input": "2024-02-28T19:04:22.203600Z",
     "iopub.status.busy": "2024-02-28T19:04:22.203205Z",
     "iopub.status.idle": "2024-02-28T19:04:22.249670Z",
     "shell.execute_reply": "2024-02-28T19:04:22.248389Z"
    },
    "papermill": {
     "duration": 0.062406,
     "end_time": "2024-02-28T19:04:22.252214",
     "exception": false,
     "start_time": "2024-02-28T19:04:22.189808",
     "status": "completed"
    },
    "tags": []
   },
   "outputs": [
    {
     "data": {
      "text/html": [
       "<div>\n",
       "<style scoped>\n",
       "    .dataframe tbody tr th:only-of-type {\n",
       "        vertical-align: middle;\n",
       "    }\n",
       "\n",
       "    .dataframe tbody tr th {\n",
       "        vertical-align: top;\n",
       "    }\n",
       "\n",
       "    .dataframe thead th {\n",
       "        text-align: right;\n",
       "    }\n",
       "</style>\n",
       "<table border=\"1\" class=\"dataframe\">\n",
       "  <thead>\n",
       "    <tr style=\"text-align: right;\">\n",
       "      <th></th>\n",
       "      <th>age</th>\n",
       "      <th>sex</th>\n",
       "      <th>cp</th>\n",
       "      <th>trestbps</th>\n",
       "      <th>chol</th>\n",
       "      <th>fbs</th>\n",
       "      <th>restecg</th>\n",
       "      <th>thalach</th>\n",
       "      <th>exang</th>\n",
       "      <th>oldpeak</th>\n",
       "      <th>slope</th>\n",
       "      <th>ca</th>\n",
       "      <th>thal</th>\n",
       "      <th>target</th>\n",
       "    </tr>\n",
       "  </thead>\n",
       "  <tbody>\n",
       "    <tr>\n",
       "      <th>0</th>\n",
       "      <td>52</td>\n",
       "      <td>1</td>\n",
       "      <td>0</td>\n",
       "      <td>125</td>\n",
       "      <td>212</td>\n",
       "      <td>0</td>\n",
       "      <td>1</td>\n",
       "      <td>168</td>\n",
       "      <td>0</td>\n",
       "      <td>1.0</td>\n",
       "      <td>2</td>\n",
       "      <td>2</td>\n",
       "      <td>3</td>\n",
       "      <td>0</td>\n",
       "    </tr>\n",
       "    <tr>\n",
       "      <th>1</th>\n",
       "      <td>53</td>\n",
       "      <td>1</td>\n",
       "      <td>0</td>\n",
       "      <td>140</td>\n",
       "      <td>203</td>\n",
       "      <td>1</td>\n",
       "      <td>0</td>\n",
       "      <td>155</td>\n",
       "      <td>1</td>\n",
       "      <td>3.1</td>\n",
       "      <td>0</td>\n",
       "      <td>0</td>\n",
       "      <td>3</td>\n",
       "      <td>0</td>\n",
       "    </tr>\n",
       "    <tr>\n",
       "      <th>2</th>\n",
       "      <td>70</td>\n",
       "      <td>1</td>\n",
       "      <td>0</td>\n",
       "      <td>145</td>\n",
       "      <td>174</td>\n",
       "      <td>0</td>\n",
       "      <td>1</td>\n",
       "      <td>125</td>\n",
       "      <td>1</td>\n",
       "      <td>2.6</td>\n",
       "      <td>0</td>\n",
       "      <td>0</td>\n",
       "      <td>3</td>\n",
       "      <td>0</td>\n",
       "    </tr>\n",
       "    <tr>\n",
       "      <th>3</th>\n",
       "      <td>61</td>\n",
       "      <td>1</td>\n",
       "      <td>0</td>\n",
       "      <td>148</td>\n",
       "      <td>203</td>\n",
       "      <td>0</td>\n",
       "      <td>1</td>\n",
       "      <td>161</td>\n",
       "      <td>0</td>\n",
       "      <td>0.0</td>\n",
       "      <td>2</td>\n",
       "      <td>1</td>\n",
       "      <td>3</td>\n",
       "      <td>0</td>\n",
       "    </tr>\n",
       "    <tr>\n",
       "      <th>4</th>\n",
       "      <td>62</td>\n",
       "      <td>0</td>\n",
       "      <td>0</td>\n",
       "      <td>138</td>\n",
       "      <td>294</td>\n",
       "      <td>1</td>\n",
       "      <td>1</td>\n",
       "      <td>106</td>\n",
       "      <td>0</td>\n",
       "      <td>1.9</td>\n",
       "      <td>1</td>\n",
       "      <td>3</td>\n",
       "      <td>2</td>\n",
       "      <td>0</td>\n",
       "    </tr>\n",
       "    <tr>\n",
       "      <th>...</th>\n",
       "      <td>...</td>\n",
       "      <td>...</td>\n",
       "      <td>...</td>\n",
       "      <td>...</td>\n",
       "      <td>...</td>\n",
       "      <td>...</td>\n",
       "      <td>...</td>\n",
       "      <td>...</td>\n",
       "      <td>...</td>\n",
       "      <td>...</td>\n",
       "      <td>...</td>\n",
       "      <td>...</td>\n",
       "      <td>...</td>\n",
       "      <td>...</td>\n",
       "    </tr>\n",
       "    <tr>\n",
       "      <th>1020</th>\n",
       "      <td>59</td>\n",
       "      <td>1</td>\n",
       "      <td>1</td>\n",
       "      <td>140</td>\n",
       "      <td>221</td>\n",
       "      <td>0</td>\n",
       "      <td>1</td>\n",
       "      <td>164</td>\n",
       "      <td>1</td>\n",
       "      <td>0.0</td>\n",
       "      <td>2</td>\n",
       "      <td>0</td>\n",
       "      <td>2</td>\n",
       "      <td>1</td>\n",
       "    </tr>\n",
       "    <tr>\n",
       "      <th>1021</th>\n",
       "      <td>60</td>\n",
       "      <td>1</td>\n",
       "      <td>0</td>\n",
       "      <td>125</td>\n",
       "      <td>258</td>\n",
       "      <td>0</td>\n",
       "      <td>0</td>\n",
       "      <td>141</td>\n",
       "      <td>1</td>\n",
       "      <td>2.8</td>\n",
       "      <td>1</td>\n",
       "      <td>1</td>\n",
       "      <td>3</td>\n",
       "      <td>0</td>\n",
       "    </tr>\n",
       "    <tr>\n",
       "      <th>1022</th>\n",
       "      <td>47</td>\n",
       "      <td>1</td>\n",
       "      <td>0</td>\n",
       "      <td>110</td>\n",
       "      <td>275</td>\n",
       "      <td>0</td>\n",
       "      <td>0</td>\n",
       "      <td>118</td>\n",
       "      <td>1</td>\n",
       "      <td>1.0</td>\n",
       "      <td>1</td>\n",
       "      <td>1</td>\n",
       "      <td>2</td>\n",
       "      <td>0</td>\n",
       "    </tr>\n",
       "    <tr>\n",
       "      <th>1023</th>\n",
       "      <td>50</td>\n",
       "      <td>0</td>\n",
       "      <td>0</td>\n",
       "      <td>110</td>\n",
       "      <td>254</td>\n",
       "      <td>0</td>\n",
       "      <td>0</td>\n",
       "      <td>159</td>\n",
       "      <td>0</td>\n",
       "      <td>0.0</td>\n",
       "      <td>2</td>\n",
       "      <td>0</td>\n",
       "      <td>2</td>\n",
       "      <td>1</td>\n",
       "    </tr>\n",
       "    <tr>\n",
       "      <th>1024</th>\n",
       "      <td>54</td>\n",
       "      <td>1</td>\n",
       "      <td>0</td>\n",
       "      <td>120</td>\n",
       "      <td>188</td>\n",
       "      <td>0</td>\n",
       "      <td>1</td>\n",
       "      <td>113</td>\n",
       "      <td>0</td>\n",
       "      <td>1.4</td>\n",
       "      <td>1</td>\n",
       "      <td>1</td>\n",
       "      <td>3</td>\n",
       "      <td>0</td>\n",
       "    </tr>\n",
       "  </tbody>\n",
       "</table>\n",
       "<p>1025 rows × 14 columns</p>\n",
       "</div>"
      ],
      "text/plain": [
       "      age  sex  cp  trestbps  chol  fbs  restecg  thalach  exang  oldpeak  \\\n",
       "0      52    1   0       125   212    0        1      168      0      1.0   \n",
       "1      53    1   0       140   203    1        0      155      1      3.1   \n",
       "2      70    1   0       145   174    0        1      125      1      2.6   \n",
       "3      61    1   0       148   203    0        1      161      0      0.0   \n",
       "4      62    0   0       138   294    1        1      106      0      1.9   \n",
       "...   ...  ...  ..       ...   ...  ...      ...      ...    ...      ...   \n",
       "1020   59    1   1       140   221    0        1      164      1      0.0   \n",
       "1021   60    1   0       125   258    0        0      141      1      2.8   \n",
       "1022   47    1   0       110   275    0        0      118      1      1.0   \n",
       "1023   50    0   0       110   254    0        0      159      0      0.0   \n",
       "1024   54    1   0       120   188    0        1      113      0      1.4   \n",
       "\n",
       "      slope  ca  thal  target  \n",
       "0         2   2     3       0  \n",
       "1         0   0     3       0  \n",
       "2         0   0     3       0  \n",
       "3         2   1     3       0  \n",
       "4         1   3     2       0  \n",
       "...     ...  ..   ...     ...  \n",
       "1020      2   0     2       1  \n",
       "1021      1   1     3       0  \n",
       "1022      1   1     2       0  \n",
       "1023      2   0     2       1  \n",
       "1024      1   1     3       0  \n",
       "\n",
       "[1025 rows x 14 columns]"
      ]
     },
     "execution_count": 3,
     "metadata": {},
     "output_type": "execute_result"
    }
   ],
   "source": [
    "df = pd.read_csv('/kaggle/input/heart-disease-dataset/heart.csv')\n",
    "df = df.replace([np.inf, -np.inf], np.nan)\n",
    "df"
   ]
  },
  {
   "cell_type": "code",
   "execution_count": 4,
   "id": "a2f6d01e",
   "metadata": {
    "execution": {
     "iopub.execute_input": "2024-02-28T19:04:22.278897Z",
     "iopub.status.busy": "2024-02-28T19:04:22.278222Z",
     "iopub.status.idle": "2024-02-28T19:04:22.303064Z",
     "shell.execute_reply": "2024-02-28T19:04:22.301671Z"
    },
    "papermill": {
     "duration": 0.041616,
     "end_time": "2024-02-28T19:04:22.305459",
     "exception": false,
     "start_time": "2024-02-28T19:04:22.263843",
     "status": "completed"
    },
    "tags": []
   },
   "outputs": [
    {
     "name": "stdout",
     "output_type": "stream",
     "text": [
      "<class 'pandas.core.frame.DataFrame'>\n",
      "RangeIndex: 1025 entries, 0 to 1024\n",
      "Data columns (total 14 columns):\n",
      " #   Column    Non-Null Count  Dtype  \n",
      "---  ------    --------------  -----  \n",
      " 0   age       1025 non-null   int64  \n",
      " 1   sex       1025 non-null   int64  \n",
      " 2   cp        1025 non-null   int64  \n",
      " 3   trestbps  1025 non-null   int64  \n",
      " 4   chol      1025 non-null   int64  \n",
      " 5   fbs       1025 non-null   int64  \n",
      " 6   restecg   1025 non-null   int64  \n",
      " 7   thalach   1025 non-null   int64  \n",
      " 8   exang     1025 non-null   int64  \n",
      " 9   oldpeak   1025 non-null   float64\n",
      " 10  slope     1025 non-null   int64  \n",
      " 11  ca        1025 non-null   int64  \n",
      " 12  thal      1025 non-null   int64  \n",
      " 13  target    1025 non-null   int64  \n",
      "dtypes: float64(1), int64(13)\n",
      "memory usage: 112.2 KB\n"
     ]
    }
   ],
   "source": [
    "df.info()"
   ]
  },
  {
   "cell_type": "code",
   "execution_count": 5,
   "id": "03567212",
   "metadata": {
    "execution": {
     "iopub.execute_input": "2024-02-28T19:04:22.330734Z",
     "iopub.status.busy": "2024-02-28T19:04:22.330323Z",
     "iopub.status.idle": "2024-02-28T19:04:22.338936Z",
     "shell.execute_reply": "2024-02-28T19:04:22.337697Z"
    },
    "papermill": {
     "duration": 0.024122,
     "end_time": "2024-02-28T19:04:22.341362",
     "exception": false,
     "start_time": "2024-02-28T19:04:22.317240",
     "status": "completed"
    },
    "tags": []
   },
   "outputs": [
    {
     "data": {
      "text/plain": [
       "age         0\n",
       "sex         0\n",
       "cp          0\n",
       "trestbps    0\n",
       "chol        0\n",
       "fbs         0\n",
       "restecg     0\n",
       "thalach     0\n",
       "exang       0\n",
       "oldpeak     0\n",
       "slope       0\n",
       "ca          0\n",
       "thal        0\n",
       "target      0\n",
       "dtype: int64"
      ]
     },
     "execution_count": 5,
     "metadata": {},
     "output_type": "execute_result"
    }
   ],
   "source": [
    "df.isnull().sum()"
   ]
  },
  {
   "cell_type": "code",
   "execution_count": 6,
   "id": "ce50e8e9",
   "metadata": {
    "execution": {
     "iopub.execute_input": "2024-02-28T19:04:22.367221Z",
     "iopub.status.busy": "2024-02-28T19:04:22.366838Z",
     "iopub.status.idle": "2024-02-28T19:04:22.375795Z",
     "shell.execute_reply": "2024-02-28T19:04:22.374693Z"
    },
    "papermill": {
     "duration": 0.024598,
     "end_time": "2024-02-28T19:04:22.378222",
     "exception": false,
     "start_time": "2024-02-28T19:04:22.353624",
     "status": "completed"
    },
    "tags": []
   },
   "outputs": [
    {
     "data": {
      "text/plain": [
       "723"
      ]
     },
     "execution_count": 6,
     "metadata": {},
     "output_type": "execute_result"
    }
   ],
   "source": [
    "df.duplicated().sum()"
   ]
  },
  {
   "cell_type": "code",
   "execution_count": 7,
   "id": "6dcb8465",
   "metadata": {
    "execution": {
     "iopub.execute_input": "2024-02-28T19:04:22.404822Z",
     "iopub.status.busy": "2024-02-28T19:04:22.403690Z",
     "iopub.status.idle": "2024-02-28T19:04:22.422183Z",
     "shell.execute_reply": "2024-02-28T19:04:22.421313Z"
    },
    "papermill": {
     "duration": 0.033353,
     "end_time": "2024-02-28T19:04:22.424101",
     "exception": false,
     "start_time": "2024-02-28T19:04:22.390748",
     "status": "completed"
    },
    "tags": []
   },
   "outputs": [
    {
     "data": {
      "text/html": [
       "<div>\n",
       "<style scoped>\n",
       "    .dataframe tbody tr th:only-of-type {\n",
       "        vertical-align: middle;\n",
       "    }\n",
       "\n",
       "    .dataframe tbody tr th {\n",
       "        vertical-align: top;\n",
       "    }\n",
       "\n",
       "    .dataframe thead th {\n",
       "        text-align: right;\n",
       "    }\n",
       "</style>\n",
       "<table border=\"1\" class=\"dataframe\">\n",
       "  <thead>\n",
       "    <tr style=\"text-align: right;\">\n",
       "      <th></th>\n",
       "      <th>age</th>\n",
       "      <th>sex</th>\n",
       "      <th>cp</th>\n",
       "      <th>trestbps</th>\n",
       "      <th>chol</th>\n",
       "      <th>fbs</th>\n",
       "      <th>restecg</th>\n",
       "      <th>thalach</th>\n",
       "      <th>exang</th>\n",
       "      <th>oldpeak</th>\n",
       "      <th>slope</th>\n",
       "      <th>ca</th>\n",
       "      <th>thal</th>\n",
       "      <th>target</th>\n",
       "    </tr>\n",
       "  </thead>\n",
       "  <tbody>\n",
       "    <tr>\n",
       "      <th>0</th>\n",
       "      <td>52</td>\n",
       "      <td>1</td>\n",
       "      <td>0</td>\n",
       "      <td>125</td>\n",
       "      <td>212</td>\n",
       "      <td>0</td>\n",
       "      <td>1</td>\n",
       "      <td>168</td>\n",
       "      <td>0</td>\n",
       "      <td>1.0</td>\n",
       "      <td>2</td>\n",
       "      <td>2</td>\n",
       "      <td>3</td>\n",
       "      <td>0</td>\n",
       "    </tr>\n",
       "    <tr>\n",
       "      <th>1</th>\n",
       "      <td>53</td>\n",
       "      <td>1</td>\n",
       "      <td>0</td>\n",
       "      <td>140</td>\n",
       "      <td>203</td>\n",
       "      <td>1</td>\n",
       "      <td>0</td>\n",
       "      <td>155</td>\n",
       "      <td>1</td>\n",
       "      <td>3.1</td>\n",
       "      <td>0</td>\n",
       "      <td>0</td>\n",
       "      <td>3</td>\n",
       "      <td>0</td>\n",
       "    </tr>\n",
       "    <tr>\n",
       "      <th>2</th>\n",
       "      <td>70</td>\n",
       "      <td>1</td>\n",
       "      <td>0</td>\n",
       "      <td>145</td>\n",
       "      <td>174</td>\n",
       "      <td>0</td>\n",
       "      <td>1</td>\n",
       "      <td>125</td>\n",
       "      <td>1</td>\n",
       "      <td>2.6</td>\n",
       "      <td>0</td>\n",
       "      <td>0</td>\n",
       "      <td>3</td>\n",
       "      <td>0</td>\n",
       "    </tr>\n",
       "    <tr>\n",
       "      <th>3</th>\n",
       "      <td>61</td>\n",
       "      <td>1</td>\n",
       "      <td>0</td>\n",
       "      <td>148</td>\n",
       "      <td>203</td>\n",
       "      <td>0</td>\n",
       "      <td>1</td>\n",
       "      <td>161</td>\n",
       "      <td>0</td>\n",
       "      <td>0.0</td>\n",
       "      <td>2</td>\n",
       "      <td>1</td>\n",
       "      <td>3</td>\n",
       "      <td>0</td>\n",
       "    </tr>\n",
       "    <tr>\n",
       "      <th>4</th>\n",
       "      <td>62</td>\n",
       "      <td>0</td>\n",
       "      <td>0</td>\n",
       "      <td>138</td>\n",
       "      <td>294</td>\n",
       "      <td>1</td>\n",
       "      <td>1</td>\n",
       "      <td>106</td>\n",
       "      <td>0</td>\n",
       "      <td>1.9</td>\n",
       "      <td>1</td>\n",
       "      <td>3</td>\n",
       "      <td>2</td>\n",
       "      <td>0</td>\n",
       "    </tr>\n",
       "    <tr>\n",
       "      <th>...</th>\n",
       "      <td>...</td>\n",
       "      <td>...</td>\n",
       "      <td>...</td>\n",
       "      <td>...</td>\n",
       "      <td>...</td>\n",
       "      <td>...</td>\n",
       "      <td>...</td>\n",
       "      <td>...</td>\n",
       "      <td>...</td>\n",
       "      <td>...</td>\n",
       "      <td>...</td>\n",
       "      <td>...</td>\n",
       "      <td>...</td>\n",
       "      <td>...</td>\n",
       "    </tr>\n",
       "    <tr>\n",
       "      <th>723</th>\n",
       "      <td>68</td>\n",
       "      <td>0</td>\n",
       "      <td>2</td>\n",
       "      <td>120</td>\n",
       "      <td>211</td>\n",
       "      <td>0</td>\n",
       "      <td>0</td>\n",
       "      <td>115</td>\n",
       "      <td>0</td>\n",
       "      <td>1.5</td>\n",
       "      <td>1</td>\n",
       "      <td>0</td>\n",
       "      <td>2</td>\n",
       "      <td>1</td>\n",
       "    </tr>\n",
       "    <tr>\n",
       "      <th>733</th>\n",
       "      <td>44</td>\n",
       "      <td>0</td>\n",
       "      <td>2</td>\n",
       "      <td>108</td>\n",
       "      <td>141</td>\n",
       "      <td>0</td>\n",
       "      <td>1</td>\n",
       "      <td>175</td>\n",
       "      <td>0</td>\n",
       "      <td>0.6</td>\n",
       "      <td>1</td>\n",
       "      <td>0</td>\n",
       "      <td>2</td>\n",
       "      <td>1</td>\n",
       "    </tr>\n",
       "    <tr>\n",
       "      <th>739</th>\n",
       "      <td>52</td>\n",
       "      <td>1</td>\n",
       "      <td>0</td>\n",
       "      <td>128</td>\n",
       "      <td>255</td>\n",
       "      <td>0</td>\n",
       "      <td>1</td>\n",
       "      <td>161</td>\n",
       "      <td>1</td>\n",
       "      <td>0.0</td>\n",
       "      <td>2</td>\n",
       "      <td>1</td>\n",
       "      <td>3</td>\n",
       "      <td>0</td>\n",
       "    </tr>\n",
       "    <tr>\n",
       "      <th>843</th>\n",
       "      <td>59</td>\n",
       "      <td>1</td>\n",
       "      <td>3</td>\n",
       "      <td>160</td>\n",
       "      <td>273</td>\n",
       "      <td>0</td>\n",
       "      <td>0</td>\n",
       "      <td>125</td>\n",
       "      <td>0</td>\n",
       "      <td>0.0</td>\n",
       "      <td>2</td>\n",
       "      <td>0</td>\n",
       "      <td>2</td>\n",
       "      <td>0</td>\n",
       "    </tr>\n",
       "    <tr>\n",
       "      <th>878</th>\n",
       "      <td>54</td>\n",
       "      <td>1</td>\n",
       "      <td>0</td>\n",
       "      <td>120</td>\n",
       "      <td>188</td>\n",
       "      <td>0</td>\n",
       "      <td>1</td>\n",
       "      <td>113</td>\n",
       "      <td>0</td>\n",
       "      <td>1.4</td>\n",
       "      <td>1</td>\n",
       "      <td>1</td>\n",
       "      <td>3</td>\n",
       "      <td>0</td>\n",
       "    </tr>\n",
       "  </tbody>\n",
       "</table>\n",
       "<p>302 rows × 14 columns</p>\n",
       "</div>"
      ],
      "text/plain": [
       "     age  sex  cp  trestbps  chol  fbs  restecg  thalach  exang  oldpeak  \\\n",
       "0     52    1   0       125   212    0        1      168      0      1.0   \n",
       "1     53    1   0       140   203    1        0      155      1      3.1   \n",
       "2     70    1   0       145   174    0        1      125      1      2.6   \n",
       "3     61    1   0       148   203    0        1      161      0      0.0   \n",
       "4     62    0   0       138   294    1        1      106      0      1.9   \n",
       "..   ...  ...  ..       ...   ...  ...      ...      ...    ...      ...   \n",
       "723   68    0   2       120   211    0        0      115      0      1.5   \n",
       "733   44    0   2       108   141    0        1      175      0      0.6   \n",
       "739   52    1   0       128   255    0        1      161      1      0.0   \n",
       "843   59    1   3       160   273    0        0      125      0      0.0   \n",
       "878   54    1   0       120   188    0        1      113      0      1.4   \n",
       "\n",
       "     slope  ca  thal  target  \n",
       "0        2   2     3       0  \n",
       "1        0   0     3       0  \n",
       "2        0   0     3       0  \n",
       "3        2   1     3       0  \n",
       "4        1   3     2       0  \n",
       "..     ...  ..   ...     ...  \n",
       "723      1   0     2       1  \n",
       "733      1   0     2       1  \n",
       "739      2   1     3       0  \n",
       "843      2   0     2       0  \n",
       "878      1   1     3       0  \n",
       "\n",
       "[302 rows x 14 columns]"
      ]
     },
     "execution_count": 7,
     "metadata": {},
     "output_type": "execute_result"
    }
   ],
   "source": [
    "hd = df.drop_duplicates()\n",
    "hd"
   ]
  },
  {
   "cell_type": "code",
   "execution_count": 8,
   "id": "f81c489d",
   "metadata": {
    "execution": {
     "iopub.execute_input": "2024-02-28T19:04:22.451146Z",
     "iopub.status.busy": "2024-02-28T19:04:22.450524Z",
     "iopub.status.idle": "2024-02-28T19:04:22.495295Z",
     "shell.execute_reply": "2024-02-28T19:04:22.494098Z"
    },
    "papermill": {
     "duration": 0.06059,
     "end_time": "2024-02-28T19:04:22.497388",
     "exception": false,
     "start_time": "2024-02-28T19:04:22.436798",
     "status": "completed"
    },
    "tags": []
   },
   "outputs": [
    {
     "data": {
      "text/html": [
       "<div>\n",
       "<style scoped>\n",
       "    .dataframe tbody tr th:only-of-type {\n",
       "        vertical-align: middle;\n",
       "    }\n",
       "\n",
       "    .dataframe tbody tr th {\n",
       "        vertical-align: top;\n",
       "    }\n",
       "\n",
       "    .dataframe thead th {\n",
       "        text-align: right;\n",
       "    }\n",
       "</style>\n",
       "<table border=\"1\" class=\"dataframe\">\n",
       "  <thead>\n",
       "    <tr style=\"text-align: right;\">\n",
       "      <th></th>\n",
       "      <th>age</th>\n",
       "      <th>sex</th>\n",
       "      <th>cp</th>\n",
       "      <th>trestbps</th>\n",
       "      <th>chol</th>\n",
       "      <th>fbs</th>\n",
       "      <th>restecg</th>\n",
       "      <th>thalach</th>\n",
       "      <th>exang</th>\n",
       "      <th>oldpeak</th>\n",
       "      <th>slope</th>\n",
       "      <th>ca</th>\n",
       "      <th>thal</th>\n",
       "      <th>target</th>\n",
       "    </tr>\n",
       "  </thead>\n",
       "  <tbody>\n",
       "    <tr>\n",
       "      <th>count</th>\n",
       "      <td>302.00000</td>\n",
       "      <td>302.000000</td>\n",
       "      <td>302.000000</td>\n",
       "      <td>302.000000</td>\n",
       "      <td>302.000000</td>\n",
       "      <td>302.000000</td>\n",
       "      <td>302.000000</td>\n",
       "      <td>302.000000</td>\n",
       "      <td>302.000000</td>\n",
       "      <td>302.000000</td>\n",
       "      <td>302.000000</td>\n",
       "      <td>302.000000</td>\n",
       "      <td>302.000000</td>\n",
       "      <td>302.000000</td>\n",
       "    </tr>\n",
       "    <tr>\n",
       "      <th>mean</th>\n",
       "      <td>54.42053</td>\n",
       "      <td>0.682119</td>\n",
       "      <td>0.963576</td>\n",
       "      <td>131.602649</td>\n",
       "      <td>246.500000</td>\n",
       "      <td>0.149007</td>\n",
       "      <td>0.526490</td>\n",
       "      <td>149.569536</td>\n",
       "      <td>0.327815</td>\n",
       "      <td>1.043046</td>\n",
       "      <td>1.397351</td>\n",
       "      <td>0.718543</td>\n",
       "      <td>2.314570</td>\n",
       "      <td>0.543046</td>\n",
       "    </tr>\n",
       "    <tr>\n",
       "      <th>std</th>\n",
       "      <td>9.04797</td>\n",
       "      <td>0.466426</td>\n",
       "      <td>1.032044</td>\n",
       "      <td>17.563394</td>\n",
       "      <td>51.753489</td>\n",
       "      <td>0.356686</td>\n",
       "      <td>0.526027</td>\n",
       "      <td>22.903527</td>\n",
       "      <td>0.470196</td>\n",
       "      <td>1.161452</td>\n",
       "      <td>0.616274</td>\n",
       "      <td>1.006748</td>\n",
       "      <td>0.613026</td>\n",
       "      <td>0.498970</td>\n",
       "    </tr>\n",
       "    <tr>\n",
       "      <th>min</th>\n",
       "      <td>29.00000</td>\n",
       "      <td>0.000000</td>\n",
       "      <td>0.000000</td>\n",
       "      <td>94.000000</td>\n",
       "      <td>126.000000</td>\n",
       "      <td>0.000000</td>\n",
       "      <td>0.000000</td>\n",
       "      <td>71.000000</td>\n",
       "      <td>0.000000</td>\n",
       "      <td>0.000000</td>\n",
       "      <td>0.000000</td>\n",
       "      <td>0.000000</td>\n",
       "      <td>0.000000</td>\n",
       "      <td>0.000000</td>\n",
       "    </tr>\n",
       "    <tr>\n",
       "      <th>25%</th>\n",
       "      <td>48.00000</td>\n",
       "      <td>0.000000</td>\n",
       "      <td>0.000000</td>\n",
       "      <td>120.000000</td>\n",
       "      <td>211.000000</td>\n",
       "      <td>0.000000</td>\n",
       "      <td>0.000000</td>\n",
       "      <td>133.250000</td>\n",
       "      <td>0.000000</td>\n",
       "      <td>0.000000</td>\n",
       "      <td>1.000000</td>\n",
       "      <td>0.000000</td>\n",
       "      <td>2.000000</td>\n",
       "      <td>0.000000</td>\n",
       "    </tr>\n",
       "    <tr>\n",
       "      <th>50%</th>\n",
       "      <td>55.50000</td>\n",
       "      <td>1.000000</td>\n",
       "      <td>1.000000</td>\n",
       "      <td>130.000000</td>\n",
       "      <td>240.500000</td>\n",
       "      <td>0.000000</td>\n",
       "      <td>1.000000</td>\n",
       "      <td>152.500000</td>\n",
       "      <td>0.000000</td>\n",
       "      <td>0.800000</td>\n",
       "      <td>1.000000</td>\n",
       "      <td>0.000000</td>\n",
       "      <td>2.000000</td>\n",
       "      <td>1.000000</td>\n",
       "    </tr>\n",
       "    <tr>\n",
       "      <th>75%</th>\n",
       "      <td>61.00000</td>\n",
       "      <td>1.000000</td>\n",
       "      <td>2.000000</td>\n",
       "      <td>140.000000</td>\n",
       "      <td>274.750000</td>\n",
       "      <td>0.000000</td>\n",
       "      <td>1.000000</td>\n",
       "      <td>166.000000</td>\n",
       "      <td>1.000000</td>\n",
       "      <td>1.600000</td>\n",
       "      <td>2.000000</td>\n",
       "      <td>1.000000</td>\n",
       "      <td>3.000000</td>\n",
       "      <td>1.000000</td>\n",
       "    </tr>\n",
       "    <tr>\n",
       "      <th>max</th>\n",
       "      <td>77.00000</td>\n",
       "      <td>1.000000</td>\n",
       "      <td>3.000000</td>\n",
       "      <td>200.000000</td>\n",
       "      <td>564.000000</td>\n",
       "      <td>1.000000</td>\n",
       "      <td>2.000000</td>\n",
       "      <td>202.000000</td>\n",
       "      <td>1.000000</td>\n",
       "      <td>6.200000</td>\n",
       "      <td>2.000000</td>\n",
       "      <td>4.000000</td>\n",
       "      <td>3.000000</td>\n",
       "      <td>1.000000</td>\n",
       "    </tr>\n",
       "  </tbody>\n",
       "</table>\n",
       "</div>"
      ],
      "text/plain": [
       "             age         sex          cp    trestbps        chol         fbs  \\\n",
       "count  302.00000  302.000000  302.000000  302.000000  302.000000  302.000000   \n",
       "mean    54.42053    0.682119    0.963576  131.602649  246.500000    0.149007   \n",
       "std      9.04797    0.466426    1.032044   17.563394   51.753489    0.356686   \n",
       "min     29.00000    0.000000    0.000000   94.000000  126.000000    0.000000   \n",
       "25%     48.00000    0.000000    0.000000  120.000000  211.000000    0.000000   \n",
       "50%     55.50000    1.000000    1.000000  130.000000  240.500000    0.000000   \n",
       "75%     61.00000    1.000000    2.000000  140.000000  274.750000    0.000000   \n",
       "max     77.00000    1.000000    3.000000  200.000000  564.000000    1.000000   \n",
       "\n",
       "          restecg     thalach       exang     oldpeak       slope          ca  \\\n",
       "count  302.000000  302.000000  302.000000  302.000000  302.000000  302.000000   \n",
       "mean     0.526490  149.569536    0.327815    1.043046    1.397351    0.718543   \n",
       "std      0.526027   22.903527    0.470196    1.161452    0.616274    1.006748   \n",
       "min      0.000000   71.000000    0.000000    0.000000    0.000000    0.000000   \n",
       "25%      0.000000  133.250000    0.000000    0.000000    1.000000    0.000000   \n",
       "50%      1.000000  152.500000    0.000000    0.800000    1.000000    0.000000   \n",
       "75%      1.000000  166.000000    1.000000    1.600000    2.000000    1.000000   \n",
       "max      2.000000  202.000000    1.000000    6.200000    2.000000    4.000000   \n",
       "\n",
       "             thal      target  \n",
       "count  302.000000  302.000000  \n",
       "mean     2.314570    0.543046  \n",
       "std      0.613026    0.498970  \n",
       "min      0.000000    0.000000  \n",
       "25%      2.000000    0.000000  \n",
       "50%      2.000000    1.000000  \n",
       "75%      3.000000    1.000000  \n",
       "max      3.000000    1.000000  "
      ]
     },
     "execution_count": 8,
     "metadata": {},
     "output_type": "execute_result"
    }
   ],
   "source": [
    "hd.describe()"
   ]
  },
  {
   "cell_type": "code",
   "execution_count": 9,
   "id": "053454e5",
   "metadata": {
    "execution": {
     "iopub.execute_input": "2024-02-28T19:04:22.524674Z",
     "iopub.status.busy": "2024-02-28T19:04:22.523572Z",
     "iopub.status.idle": "2024-02-28T19:04:23.652518Z",
     "shell.execute_reply": "2024-02-28T19:04:23.651357Z"
    },
    "papermill": {
     "duration": 1.145311,
     "end_time": "2024-02-28T19:04:23.655310",
     "exception": false,
     "start_time": "2024-02-28T19:04:22.509999",
     "status": "completed"
    },
    "tags": []
   },
   "outputs": [
    {
     "data": {
      "text/plain": [
       "<Axes: >"
      ]
     },
     "execution_count": 9,
     "metadata": {},
     "output_type": "execute_result"
    },
    {
     "data": {
      "image/png": "[encoded data removed]",
      "text/plain": [
       "<Figure size 1600x1000 with 2 Axes>"
      ]
     },
     "metadata": {},
     "output_type": "display_data"
    }
   ],
   "source": [
    "plt.figure(figsize = (16, 10))\n",
    "sns.heatmap(hd.corr(), annot = True, cmap='Blues')"
   ]
  },
  {
   "cell_type": "code",
   "execution_count": 10,
   "id": "da48d453",
   "metadata": {
    "execution": {
     "iopub.execute_input": "2024-02-28T19:04:23.689538Z",
     "iopub.status.busy": "2024-02-28T19:04:23.688662Z",
     "iopub.status.idle": "2024-02-28T19:04:23.697428Z",
     "shell.execute_reply": "2024-02-28T19:04:23.696488Z"
    },
    "papermill": {
     "duration": 0.027192,
     "end_time": "2024-02-28T19:04:23.699321",
     "exception": false,
     "start_time": "2024-02-28T19:04:23.672129",
     "status": "completed"
    },
    "tags": []
   },
   "outputs": [
    {
     "name": "stdout",
     "output_type": "stream",
     "text": [
      "age: 41\n",
      "sex: 2\n",
      "cp: 4\n",
      "trestbps: 49\n",
      "chol: 152\n",
      "fbs: 2\n",
      "restecg: 3\n",
      "thalach: 91\n",
      "exang: 2\n",
      "oldpeak: 40\n",
      "slope: 3\n",
      "ca: 5\n",
      "thal: 4\n",
      "target: 2\n"
     ]
    }
   ],
   "source": [
    "for c in hd.columns:\n",
    "    print(f'{c}: {hd[c].nunique()}')"
   ]
  },
  {
   "cell_type": "code",
   "execution_count": 11,
   "id": "a9aa7009",
   "metadata": {
    "execution": {
     "iopub.execute_input": "2024-02-28T19:04:23.732859Z",
     "iopub.status.busy": "2024-02-28T19:04:23.732211Z",
     "iopub.status.idle": "2024-02-28T19:04:23.736457Z",
     "shell.execute_reply": "2024-02-28T19:04:23.735670Z"
    },
    "papermill": {
     "duration": 0.023968,
     "end_time": "2024-02-28T19:04:23.738951",
     "exception": false,
     "start_time": "2024-02-28T19:04:23.714983",
     "status": "completed"
    },
    "tags": []
   },
   "outputs": [],
   "source": [
    "num_data = ['age', 'trestbps', 'chol', 'thalach', 'oldpeak']\n",
    "cate_data = ['sex', 'cp', 'fbs', 'restecg', 'exang', 'slope', 'ca', 'thal']"
   ]
  },
  {
   "cell_type": "code",
   "execution_count": 12,
   "id": "a2f77aec",
   "metadata": {
    "execution": {
     "iopub.execute_input": "2024-02-28T19:04:23.772628Z",
     "iopub.status.busy": "2024-02-28T19:04:23.771952Z",
     "iopub.status.idle": "2024-02-28T19:04:28.458402Z",
     "shell.execute_reply": "2024-02-28T19:04:28.457243Z"
    },
    "papermill": {
     "duration": 4.706105,
     "end_time": "2024-02-28T19:04:28.460886",
     "exception": false,
     "start_time": "2024-02-28T19:04:23.754781",
     "status": "completed"
    },
    "tags": []
   },
   "outputs": [
    {
     "name": "stderr",
     "output_type": "stream",
     "text": [
      "/opt/conda/lib/python3.10/site-packages/seaborn/_oldcore.py:1119: FutureWarning: use_inf_as_na option is deprecated and will be removed in a future version. Convert inf values to NaN before operating instead.\n",
      "  with pd.option_context('mode.use_inf_as_na', True):\n",
      "/opt/conda/lib/python3.10/site-packages/seaborn/_oldcore.py:1119: FutureWarning: use_inf_as_na option is deprecated and will be removed in a future version. Convert inf values to NaN before operating instead.\n",
      "  with pd.option_context('mode.use_inf_as_na', True):\n",
      "/opt/conda/lib/python3.10/site-packages/seaborn/_oldcore.py:1119: FutureWarning: use_inf_as_na option is deprecated and will be removed in a future version. Convert inf values to NaN before operating instead.\n",
      "  with pd.option_context('mode.use_inf_as_na', True):\n",
      "/opt/conda/lib/python3.10/site-packages/seaborn/_oldcore.py:1119: FutureWarning: use_inf_as_na option is deprecated and will be removed in a future version. Convert inf values to NaN before operating instead.\n",
      "  with pd.option_context('mode.use_inf_as_na', True):\n",
      "/opt/conda/lib/python3.10/site-packages/seaborn/_oldcore.py:1119: FutureWarning: use_inf_as_na option is deprecated and will be removed in a future version. Convert inf values to NaN before operating instead.\n",
      "  with pd.option_context('mode.use_inf_as_na', True):\n"
     ]
    },
    {
     "data": {
      "image/png": "[encoded data removed]",
      "text/plain": [
       "<Figure size 800x400 with 1 Axes>"
      ]
     },
     "metadata": {},
     "output_type": "display_data"
    },
    {
     "data": {
      "image/png": "[encoded data removed]",
      "text/plain": [
       "<Figure size 800x400 with 1 Axes>"
      ]
     },
     "metadata": {},
     "output_type": "display_data"
    },
    {
     "data": {
      "image/png": "[encoded data removed]",
      "text/plain": [
       "<Figure size 800x400 with 1 Axes>"
      ]
     },
     "metadata": {},
     "output_type": "display_data"
    },
    {
     "data": {
      "image/png": "[encoded data removed]",
      "text/plain": [
       "<Figure size 800x400 with 1 Axes>"
      ]
     },
     "metadata": {},
     "output_type": "display_data"
    },
    {
     "data": {
      "image/png": "[encoded data removed]",
      "text/plain": [
       "<Figure size 800x400 with 1 Axes>"
      ]
     },
     "metadata": {},
     "output_type": "display_data"
    },
    {
     "data": {
      "image/png": "[encoded data removed]",
      "text/plain": [
       "<Figure size 800x400 with 1 Axes>"
      ]
     },
     "metadata": {},
     "output_type": "display_data"
    },
    {
     "data": {
      "image/png": "[encoded data removed]",
      "text/plain": [
       "<Figure size 800x400 with 1 Axes>"
      ]
     },
     "metadata": {},
     "output_type": "display_data"
    },
    {
     "data": {
      "image/png": "[encoded data removed]",
      "text/plain": [
       "<Figure size 800x400 with 1 Axes>"
      ]
     },
     "metadata": {},
     "output_type": "display_data"
    },
    {
     "data": {
      "image/png": "[encoded data removed]",
      "text/plain": [
       "<Figure size 800x400 with 1 Axes>"
      ]
     },
     "metadata": {},
     "output_type": "display_data"
    },
    {
     "data": {
      "image/png": "[encoded data removed]",
      "text/plain": [
       "<Figure size 800x400 with 1 Axes>"
      ]
     },
     "metadata": {},
     "output_type": "display_data"
    },
    {
     "data": {
      "image/png": "[encoded data removed]",
      "text/plain": [
       "<Figure size 800x400 with 1 Axes>"
      ]
     },
     "metadata": {},
     "output_type": "display_data"
    },
    {
     "data": {
      "image/png": "[encoded data removed]",
      "text/plain": [
       "<Figure size 800x400 with 1 Axes>"
      ]
     },
     "metadata": {},
     "output_type": "display_data"
    },
    {
     "data": {
      "image/png": "[encoded data removed]",
      "text/plain": [
       "<Figure size 800x400 with 1 Axes>"
      ]
     },
     "metadata": {},
     "output_type": "display_data"
    },
    {
     "data": {
      "image/png": "[encoded data removed]",
      "text/plain": [
       "<Figure size 800x400 with 1 Axes>"
      ]
     },
     "metadata": {},
     "output_type": "display_data"
    }
   ],
   "source": [
    "for c in hd.columns:\n",
    "    plt.figure(figsize = (8,4))\n",
    "    plt.title(f'Evaluated Column: {c}:', fontsize = 16)\n",
    "    if c in cate_data:\n",
    "        sns.countplot(x = hd[c], hue = hd['target'])\n",
    "    if c in num_data:\n",
    "        sns.histplot(hd[c], kde = True)"
   ]
  },
  {
   "cell_type": "markdown",
   "id": "3190b6ab",
   "metadata": {
    "papermill": {
     "duration": 0.022258,
     "end_time": "2024-02-28T19:04:28.504656",
     "exception": false,
     "start_time": "2024-02-28T19:04:28.482398",
     "status": "completed"
    },
    "tags": []
   },
   "source": [
    "# Removing outliers"
   ]
  },
  {
   "cell_type": "code",
   "execution_count": 13,
   "id": "c7d0b5bb",
   "metadata": {
    "execution": {
     "iopub.execute_input": "2024-02-28T19:04:28.548537Z",
     "iopub.status.busy": "2024-02-28T19:04:28.548144Z",
     "iopub.status.idle": "2024-02-28T19:04:29.018274Z",
     "shell.execute_reply": "2024-02-28T19:04:29.017137Z"
    },
    "papermill": {
     "duration": 0.49503,
     "end_time": "2024-02-28T19:04:29.020743",
     "exception": false,
     "start_time": "2024-02-28T19:04:28.525713",
     "status": "completed"
    },
    "tags": []
   },
   "outputs": [
    {
     "data": {
      "text/plain": [
       "<Axes: >"
      ]
     },
     "execution_count": 13,
     "metadata": {},
     "output_type": "execute_result"
    },
    {
     "data": {
      "image/png": "[encoded data removed]",
      "text/plain": [
       "<Figure size 1600x600 with 1 Axes>"
      ]
     },
     "metadata": {},
     "output_type": "display_data"
    }
   ],
   "source": [
    "plt.figure(figsize = (16, 6))\n",
    "sns.boxplot(data = hd)"
   ]
  },
  {
   "cell_type": "code",
   "execution_count": 14,
   "id": "34383c69",
   "metadata": {
    "execution": {
     "iopub.execute_input": "2024-02-28T19:04:29.066257Z",
     "iopub.status.busy": "2024-02-28T19:04:29.065903Z",
     "iopub.status.idle": "2024-02-28T19:04:29.113945Z",
     "shell.execute_reply": "2024-02-28T19:04:29.112834Z"
    },
    "papermill": {
     "duration": 0.073869,
     "end_time": "2024-02-28T19:04:29.116273",
     "exception": false,
     "start_time": "2024-02-28T19:04:29.042404",
     "status": "completed"
    },
    "tags": []
   },
   "outputs": [
    {
     "data": {
      "text/html": [
       "<div>\n",
       "<style scoped>\n",
       "    .dataframe tbody tr th:only-of-type {\n",
       "        vertical-align: middle;\n",
       "    }\n",
       "\n",
       "    .dataframe tbody tr th {\n",
       "        vertical-align: top;\n",
       "    }\n",
       "\n",
       "    .dataframe thead th {\n",
       "        text-align: right;\n",
       "    }\n",
       "</style>\n",
       "<table border=\"1\" class=\"dataframe\">\n",
       "  <thead>\n",
       "    <tr style=\"text-align: right;\">\n",
       "      <th></th>\n",
       "      <th>age</th>\n",
       "      <th>sex</th>\n",
       "      <th>cp</th>\n",
       "      <th>trestbps</th>\n",
       "      <th>chol</th>\n",
       "      <th>fbs</th>\n",
       "      <th>restecg</th>\n",
       "      <th>thalach</th>\n",
       "      <th>exang</th>\n",
       "      <th>oldpeak</th>\n",
       "      <th>slope</th>\n",
       "      <th>ca</th>\n",
       "      <th>thal</th>\n",
       "      <th>target</th>\n",
       "    </tr>\n",
       "  </thead>\n",
       "  <tbody>\n",
       "    <tr>\n",
       "      <th>count</th>\n",
       "      <td>302.00000</td>\n",
       "      <td>302.000000</td>\n",
       "      <td>302.000000</td>\n",
       "      <td>302.000000</td>\n",
       "      <td>302.000000</td>\n",
       "      <td>302.000000</td>\n",
       "      <td>302.000000</td>\n",
       "      <td>302.000000</td>\n",
       "      <td>302.000000</td>\n",
       "      <td>302.000000</td>\n",
       "      <td>302.000000</td>\n",
       "      <td>302.000000</td>\n",
       "      <td>302.000000</td>\n",
       "      <td>302.000000</td>\n",
       "    </tr>\n",
       "    <tr>\n",
       "      <th>mean</th>\n",
       "      <td>54.42053</td>\n",
       "      <td>0.682119</td>\n",
       "      <td>0.963576</td>\n",
       "      <td>131.602649</td>\n",
       "      <td>246.500000</td>\n",
       "      <td>0.149007</td>\n",
       "      <td>0.526490</td>\n",
       "      <td>149.569536</td>\n",
       "      <td>0.327815</td>\n",
       "      <td>1.043046</td>\n",
       "      <td>1.397351</td>\n",
       "      <td>0.718543</td>\n",
       "      <td>2.314570</td>\n",
       "      <td>0.543046</td>\n",
       "    </tr>\n",
       "    <tr>\n",
       "      <th>std</th>\n",
       "      <td>9.04797</td>\n",
       "      <td>0.466426</td>\n",
       "      <td>1.032044</td>\n",
       "      <td>17.563394</td>\n",
       "      <td>51.753489</td>\n",
       "      <td>0.356686</td>\n",
       "      <td>0.526027</td>\n",
       "      <td>22.903527</td>\n",
       "      <td>0.470196</td>\n",
       "      <td>1.161452</td>\n",
       "      <td>0.616274</td>\n",
       "      <td>1.006748</td>\n",
       "      <td>0.613026</td>\n",
       "      <td>0.498970</td>\n",
       "    </tr>\n",
       "    <tr>\n",
       "      <th>min</th>\n",
       "      <td>29.00000</td>\n",
       "      <td>0.000000</td>\n",
       "      <td>0.000000</td>\n",
       "      <td>94.000000</td>\n",
       "      <td>126.000000</td>\n",
       "      <td>0.000000</td>\n",
       "      <td>0.000000</td>\n",
       "      <td>71.000000</td>\n",
       "      <td>0.000000</td>\n",
       "      <td>0.000000</td>\n",
       "      <td>0.000000</td>\n",
       "      <td>0.000000</td>\n",
       "      <td>0.000000</td>\n",
       "      <td>0.000000</td>\n",
       "    </tr>\n",
       "    <tr>\n",
       "      <th>25%</th>\n",
       "      <td>48.00000</td>\n",
       "      <td>0.000000</td>\n",
       "      <td>0.000000</td>\n",
       "      <td>120.000000</td>\n",
       "      <td>211.000000</td>\n",
       "      <td>0.000000</td>\n",
       "      <td>0.000000</td>\n",
       "      <td>133.250000</td>\n",
       "      <td>0.000000</td>\n",
       "      <td>0.000000</td>\n",
       "      <td>1.000000</td>\n",
       "      <td>0.000000</td>\n",
       "      <td>2.000000</td>\n",
       "      <td>0.000000</td>\n",
       "    </tr>\n",
       "    <tr>\n",
       "      <th>50%</th>\n",
       "      <td>55.50000</td>\n",
       "      <td>1.000000</td>\n",
       "      <td>1.000000</td>\n",
       "      <td>130.000000</td>\n",
       "      <td>240.500000</td>\n",
       "      <td>0.000000</td>\n",
       "      <td>1.000000</td>\n",
       "      <td>152.500000</td>\n",
       "      <td>0.000000</td>\n",
       "      <td>0.800000</td>\n",
       "      <td>1.000000</td>\n",
       "      <td>0.000000</td>\n",
       "      <td>2.000000</td>\n",
       "      <td>1.000000</td>\n",
       "    </tr>\n",
       "    <tr>\n",
       "      <th>75%</th>\n",
       "      <td>61.00000</td>\n",
       "      <td>1.000000</td>\n",
       "      <td>2.000000</td>\n",
       "      <td>140.000000</td>\n",
       "      <td>274.750000</td>\n",
       "      <td>0.000000</td>\n",
       "      <td>1.000000</td>\n",
       "      <td>166.000000</td>\n",
       "      <td>1.000000</td>\n",
       "      <td>1.600000</td>\n",
       "      <td>2.000000</td>\n",
       "      <td>1.000000</td>\n",
       "      <td>3.000000</td>\n",
       "      <td>1.000000</td>\n",
       "    </tr>\n",
       "    <tr>\n",
       "      <th>max</th>\n",
       "      <td>77.00000</td>\n",
       "      <td>1.000000</td>\n",
       "      <td>3.000000</td>\n",
       "      <td>200.000000</td>\n",
       "      <td>564.000000</td>\n",
       "      <td>1.000000</td>\n",
       "      <td>2.000000</td>\n",
       "      <td>202.000000</td>\n",
       "      <td>1.000000</td>\n",
       "      <td>6.200000</td>\n",
       "      <td>2.000000</td>\n",
       "      <td>4.000000</td>\n",
       "      <td>3.000000</td>\n",
       "      <td>1.000000</td>\n",
       "    </tr>\n",
       "  </tbody>\n",
       "</table>\n",
       "</div>"
      ],
      "text/plain": [
       "             age         sex          cp    trestbps        chol         fbs  \\\n",
       "count  302.00000  302.000000  302.000000  302.000000  302.000000  302.000000   \n",
       "mean    54.42053    0.682119    0.963576  131.602649  246.500000    0.149007   \n",
       "std      9.04797    0.466426    1.032044   17.563394   51.753489    0.356686   \n",
       "min     29.00000    0.000000    0.000000   94.000000  126.000000    0.000000   \n",
       "25%     48.00000    0.000000    0.000000  120.000000  211.000000    0.000000   \n",
       "50%     55.50000    1.000000    1.000000  130.000000  240.500000    0.000000   \n",
       "75%     61.00000    1.000000    2.000000  140.000000  274.750000    0.000000   \n",
       "max     77.00000    1.000000    3.000000  200.000000  564.000000    1.000000   \n",
       "\n",
       "          restecg     thalach       exang     oldpeak       slope          ca  \\\n",
       "count  302.000000  302.000000  302.000000  302.000000  302.000000  302.000000   \n",
       "mean     0.526490  149.569536    0.327815    1.043046    1.397351    0.718543   \n",
       "std      0.526027   22.903527    0.470196    1.161452    0.616274    1.006748   \n",
       "min      0.000000   71.000000    0.000000    0.000000    0.000000    0.000000   \n",
       "25%      0.000000  133.250000    0.000000    0.000000    1.000000    0.000000   \n",
       "50%      1.000000  152.500000    0.000000    0.800000    1.000000    0.000000   \n",
       "75%      1.000000  166.000000    1.000000    1.600000    2.000000    1.000000   \n",
       "max      2.000000  202.000000    1.000000    6.200000    2.000000    4.000000   \n",
       "\n",
       "             thal      target  \n",
       "count  302.000000  302.000000  \n",
       "mean     2.314570    0.543046  \n",
       "std      0.613026    0.498970  \n",
       "min      0.000000    0.000000  \n",
       "25%      2.000000    0.000000  \n",
       "50%      2.000000    1.000000  \n",
       "75%      3.000000    1.000000  \n",
       "max      3.000000    1.000000  "
      ]
     },
     "execution_count": 14,
     "metadata": {},
     "output_type": "execute_result"
    }
   ],
   "source": [
    "hd.describe()"
   ]
  },
  {
   "cell_type": "code",
   "execution_count": 15,
   "id": "9b6ea9e6",
   "metadata": {
    "execution": {
     "iopub.execute_input": "2024-02-28T19:04:29.163495Z",
     "iopub.status.busy": "2024-02-28T19:04:29.162438Z",
     "iopub.status.idle": "2024-02-28T19:04:29.171310Z",
     "shell.execute_reply": "2024-02-28T19:04:29.170200Z"
    },
    "papermill": {
     "duration": 0.035102,
     "end_time": "2024-02-28T19:04:29.173675",
     "exception": false,
     "start_time": "2024-02-28T19:04:29.138573",
     "status": "completed"
    },
    "tags": []
   },
   "outputs": [
    {
     "data": {
      "text/plain": [
       "180.0"
      ]
     },
     "execution_count": 15,
     "metadata": {},
     "output_type": "execute_result"
    }
   ],
   "source": [
    "hd['trestbps'].quantile(0.99)"
   ]
  },
  {
   "cell_type": "code",
   "execution_count": 16,
   "id": "2318fe68",
   "metadata": {
    "execution": {
     "iopub.execute_input": "2024-02-28T19:04:29.220788Z",
     "iopub.status.busy": "2024-02-28T19:04:29.219584Z",
     "iopub.status.idle": "2024-02-28T19:04:29.226469Z",
     "shell.execute_reply": "2024-02-28T19:04:29.225288Z"
    },
    "papermill": {
     "duration": 0.032401,
     "end_time": "2024-02-28T19:04:29.228719",
     "exception": false,
     "start_time": "2024-02-28T19:04:29.196318",
     "status": "completed"
    },
    "tags": []
   },
   "outputs": [],
   "source": [
    "hd1 = hd[hd['trestbps'] < hd['trestbps'].quantile(0.99)]"
   ]
  },
  {
   "cell_type": "code",
   "execution_count": 17,
   "id": "03be491c",
   "metadata": {
    "execution": {
     "iopub.execute_input": "2024-02-28T19:04:29.275990Z",
     "iopub.status.busy": "2024-02-28T19:04:29.275497Z",
     "iopub.status.idle": "2024-02-28T19:04:29.737798Z",
     "shell.execute_reply": "2024-02-28T19:04:29.736667Z"
    },
    "papermill": {
     "duration": 0.488283,
     "end_time": "2024-02-28T19:04:29.739888",
     "exception": false,
     "start_time": "2024-02-28T19:04:29.251605",
     "status": "completed"
    },
    "tags": []
   },
   "outputs": [
    {
     "data": {
      "text/plain": [
       "<Axes: >"
      ]
     },
     "execution_count": 17,
     "metadata": {},
     "output_type": "execute_result"
    },
    {
     "data": {
      "image/png": "[encoded data removed]",
      "text/plain": [
       "<Figure size 1600x600 with 1 Axes>"
      ]
     },
     "metadata": {},
     "output_type": "display_data"
    }
   ],
   "source": [
    "plt.figure(figsize = (16, 6))\n",
    "sns.boxplot(data = hd1)"
   ]
  },
  {
   "cell_type": "code",
   "execution_count": 18,
   "id": "977ad0ec",
   "metadata": {
    "execution": {
     "iopub.execute_input": "2024-02-28T19:04:29.787787Z",
     "iopub.status.busy": "2024-02-28T19:04:29.787113Z",
     "iopub.status.idle": "2024-02-28T19:04:29.829625Z",
     "shell.execute_reply": "2024-02-28T19:04:29.828488Z"
    },
    "papermill": {
     "duration": 0.069836,
     "end_time": "2024-02-28T19:04:29.832023",
     "exception": false,
     "start_time": "2024-02-28T19:04:29.762187",
     "status": "completed"
    },
    "tags": []
   },
   "outputs": [
    {
     "data": {
      "text/html": [
       "<div>\n",
       "<style scoped>\n",
       "    .dataframe tbody tr th:only-of-type {\n",
       "        vertical-align: middle;\n",
       "    }\n",
       "\n",
       "    .dataframe tbody tr th {\n",
       "        vertical-align: top;\n",
       "    }\n",
       "\n",
       "    .dataframe thead th {\n",
       "        text-align: right;\n",
       "    }\n",
       "</style>\n",
       "<table border=\"1\" class=\"dataframe\">\n",
       "  <thead>\n",
       "    <tr style=\"text-align: right;\">\n",
       "      <th></th>\n",
       "      <th>age</th>\n",
       "      <th>sex</th>\n",
       "      <th>cp</th>\n",
       "      <th>trestbps</th>\n",
       "      <th>chol</th>\n",
       "      <th>fbs</th>\n",
       "      <th>restecg</th>\n",
       "      <th>thalach</th>\n",
       "      <th>exang</th>\n",
       "      <th>oldpeak</th>\n",
       "      <th>slope</th>\n",
       "      <th>ca</th>\n",
       "      <th>thal</th>\n",
       "      <th>target</th>\n",
       "    </tr>\n",
       "  </thead>\n",
       "  <tbody>\n",
       "    <tr>\n",
       "      <th>count</th>\n",
       "      <td>297.000000</td>\n",
       "      <td>297.000000</td>\n",
       "      <td>297.000000</td>\n",
       "      <td>297.000000</td>\n",
       "      <td>297.000000</td>\n",
       "      <td>297.000000</td>\n",
       "      <td>297.000000</td>\n",
       "      <td>297.000000</td>\n",
       "      <td>297.000000</td>\n",
       "      <td>297.000000</td>\n",
       "      <td>297.000000</td>\n",
       "      <td>297.000000</td>\n",
       "      <td>297.000000</td>\n",
       "      <td>297.000000</td>\n",
       "    </tr>\n",
       "    <tr>\n",
       "      <th>mean</th>\n",
       "      <td>54.336700</td>\n",
       "      <td>0.686869</td>\n",
       "      <td>0.969697</td>\n",
       "      <td>130.680135</td>\n",
       "      <td>245.609428</td>\n",
       "      <td>0.144781</td>\n",
       "      <td>0.525253</td>\n",
       "      <td>149.565657</td>\n",
       "      <td>0.319865</td>\n",
       "      <td>1.030303</td>\n",
       "      <td>1.400673</td>\n",
       "      <td>0.720539</td>\n",
       "      <td>2.309764</td>\n",
       "      <td>0.548822</td>\n",
       "    </tr>\n",
       "    <tr>\n",
       "      <th>std</th>\n",
       "      <td>9.071847</td>\n",
       "      <td>0.464550</td>\n",
       "      <td>1.034420</td>\n",
       "      <td>16.154304</td>\n",
       "      <td>51.645776</td>\n",
       "      <td>0.352474</td>\n",
       "      <td>0.520072</td>\n",
       "      <td>22.844729</td>\n",
       "      <td>0.467211</td>\n",
       "      <td>1.146686</td>\n",
       "      <td>0.613254</td>\n",
       "      <td>1.009758</td>\n",
       "      <td>0.613755</td>\n",
       "      <td>0.498451</td>\n",
       "    </tr>\n",
       "    <tr>\n",
       "      <th>min</th>\n",
       "      <td>29.000000</td>\n",
       "      <td>0.000000</td>\n",
       "      <td>0.000000</td>\n",
       "      <td>94.000000</td>\n",
       "      <td>126.000000</td>\n",
       "      <td>0.000000</td>\n",
       "      <td>0.000000</td>\n",
       "      <td>71.000000</td>\n",
       "      <td>0.000000</td>\n",
       "      <td>0.000000</td>\n",
       "      <td>0.000000</td>\n",
       "      <td>0.000000</td>\n",
       "      <td>0.000000</td>\n",
       "      <td>0.000000</td>\n",
       "    </tr>\n",
       "    <tr>\n",
       "      <th>25%</th>\n",
       "      <td>47.000000</td>\n",
       "      <td>0.000000</td>\n",
       "      <td>0.000000</td>\n",
       "      <td>120.000000</td>\n",
       "      <td>211.000000</td>\n",
       "      <td>0.000000</td>\n",
       "      <td>0.000000</td>\n",
       "      <td>134.000000</td>\n",
       "      <td>0.000000</td>\n",
       "      <td>0.000000</td>\n",
       "      <td>1.000000</td>\n",
       "      <td>0.000000</td>\n",
       "      <td>2.000000</td>\n",
       "      <td>0.000000</td>\n",
       "    </tr>\n",
       "    <tr>\n",
       "      <th>50%</th>\n",
       "      <td>55.000000</td>\n",
       "      <td>1.000000</td>\n",
       "      <td>1.000000</td>\n",
       "      <td>130.000000</td>\n",
       "      <td>240.000000</td>\n",
       "      <td>0.000000</td>\n",
       "      <td>1.000000</td>\n",
       "      <td>153.000000</td>\n",
       "      <td>0.000000</td>\n",
       "      <td>0.800000</td>\n",
       "      <td>1.000000</td>\n",
       "      <td>0.000000</td>\n",
       "      <td>2.000000</td>\n",
       "      <td>1.000000</td>\n",
       "    </tr>\n",
       "    <tr>\n",
       "      <th>75%</th>\n",
       "      <td>61.000000</td>\n",
       "      <td>1.000000</td>\n",
       "      <td>2.000000</td>\n",
       "      <td>140.000000</td>\n",
       "      <td>273.000000</td>\n",
       "      <td>0.000000</td>\n",
       "      <td>1.000000</td>\n",
       "      <td>166.000000</td>\n",
       "      <td>1.000000</td>\n",
       "      <td>1.600000</td>\n",
       "      <td>2.000000</td>\n",
       "      <td>1.000000</td>\n",
       "      <td>3.000000</td>\n",
       "      <td>1.000000</td>\n",
       "    </tr>\n",
       "    <tr>\n",
       "      <th>max</th>\n",
       "      <td>77.000000</td>\n",
       "      <td>1.000000</td>\n",
       "      <td>3.000000</td>\n",
       "      <td>178.000000</td>\n",
       "      <td>564.000000</td>\n",
       "      <td>1.000000</td>\n",
       "      <td>2.000000</td>\n",
       "      <td>202.000000</td>\n",
       "      <td>1.000000</td>\n",
       "      <td>6.200000</td>\n",
       "      <td>2.000000</td>\n",
       "      <td>4.000000</td>\n",
       "      <td>3.000000</td>\n",
       "      <td>1.000000</td>\n",
       "    </tr>\n",
       "  </tbody>\n",
       "</table>\n",
       "</div>"
      ],
      "text/plain": [
       "              age         sex          cp    trestbps        chol         fbs  \\\n",
       "count  297.000000  297.000000  297.000000  297.000000  297.000000  297.000000   \n",
       "mean    54.336700    0.686869    0.969697  130.680135  245.609428    0.144781   \n",
       "std      9.071847    0.464550    1.034420   16.154304   51.645776    0.352474   \n",
       "min     29.000000    0.000000    0.000000   94.000000  126.000000    0.000000   \n",
       "25%     47.000000    0.000000    0.000000  120.000000  211.000000    0.000000   \n",
       "50%     55.000000    1.000000    1.000000  130.000000  240.000000    0.000000   \n",
       "75%     61.000000    1.000000    2.000000  140.000000  273.000000    0.000000   \n",
       "max     77.000000    1.000000    3.000000  178.000000  564.000000    1.000000   \n",
       "\n",
       "          restecg     thalach       exang     oldpeak       slope          ca  \\\n",
       "count  297.000000  297.000000  297.000000  297.000000  297.000000  297.000000   \n",
       "mean     0.525253  149.565657    0.319865    1.030303    1.400673    0.720539   \n",
       "std      0.520072   22.844729    0.467211    1.146686    0.613254    1.009758   \n",
       "min      0.000000   71.000000    0.000000    0.000000    0.000000    0.000000   \n",
       "25%      0.000000  134.000000    0.000000    0.000000    1.000000    0.000000   \n",
       "50%      1.000000  153.000000    0.000000    0.800000    1.000000    0.000000   \n",
       "75%      1.000000  166.000000    1.000000    1.600000    2.000000    1.000000   \n",
       "max      2.000000  202.000000    1.000000    6.200000    2.000000    4.000000   \n",
       "\n",
       "             thal      target  \n",
       "count  297.000000  297.000000  \n",
       "mean     2.309764    0.548822  \n",
       "std      0.613755    0.498451  \n",
       "min      0.000000    0.000000  \n",
       "25%      2.000000    0.000000  \n",
       "50%      2.000000    1.000000  \n",
       "75%      3.000000    1.000000  \n",
       "max      3.000000    1.000000  "
      ]
     },
     "execution_count": 18,
     "metadata": {},
     "output_type": "execute_result"
    }
   ],
   "source": [
    "hd1.describe()"
   ]
  },
  {
   "cell_type": "code",
   "execution_count": 19,
   "id": "aefbfccd",
   "metadata": {
    "execution": {
     "iopub.execute_input": "2024-02-28T19:04:29.881231Z",
     "iopub.status.busy": "2024-02-28T19:04:29.880564Z",
     "iopub.status.idle": "2024-02-28T19:04:29.888067Z",
     "shell.execute_reply": "2024-02-28T19:04:29.887280Z"
    },
    "papermill": {
     "duration": 0.034947,
     "end_time": "2024-02-28T19:04:29.890313",
     "exception": false,
     "start_time": "2024-02-28T19:04:29.855366",
     "status": "completed"
    },
    "tags": []
   },
   "outputs": [
    {
     "data": {
      "text/plain": [
       "354.4799999999999"
      ]
     },
     "execution_count": 19,
     "metadata": {},
     "output_type": "execute_result"
    }
   ],
   "source": [
    "hd1['chol'].quantile(0.98)"
   ]
  },
  {
   "cell_type": "code",
   "execution_count": 20,
   "id": "71e35cc8",
   "metadata": {
    "execution": {
     "iopub.execute_input": "2024-02-28T19:04:29.940211Z",
     "iopub.status.busy": "2024-02-28T19:04:29.939042Z",
     "iopub.status.idle": "2024-02-28T19:04:29.945883Z",
     "shell.execute_reply": "2024-02-28T19:04:29.945036Z"
    },
    "papermill": {
     "duration": 0.033731,
     "end_time": "2024-02-28T19:04:29.947969",
     "exception": false,
     "start_time": "2024-02-28T19:04:29.914238",
     "status": "completed"
    },
    "tags": []
   },
   "outputs": [],
   "source": [
    "hd2 = hd1[hd1['chol'] < hd1['chol'].quantile(0.98)]"
   ]
  },
  {
   "cell_type": "code",
   "execution_count": 21,
   "id": "9125d65e",
   "metadata": {
    "execution": {
     "iopub.execute_input": "2024-02-28T19:04:29.996723Z",
     "iopub.status.busy": "2024-02-28T19:04:29.996003Z",
     "iopub.status.idle": "2024-02-28T19:04:30.472863Z",
     "shell.execute_reply": "2024-02-28T19:04:30.471727Z"
    },
    "papermill": {
     "duration": 0.503903,
     "end_time": "2024-02-28T19:04:30.475111",
     "exception": false,
     "start_time": "2024-02-28T19:04:29.971208",
     "status": "completed"
    },
    "tags": []
   },
   "outputs": [
    {
     "data": {
      "text/plain": [
       "<Axes: >"
      ]
     },
     "execution_count": 21,
     "metadata": {},
     "output_type": "execute_result"
    },
    {
     "data": {
      "image/png": "[encoded data removed]",
      "text/plain": [
       "<Figure size 1600x600 with 1 Axes>"
      ]
     },
     "metadata": {},
     "output_type": "display_data"
    }
   ],
   "source": [
    "plt.figure(figsize = (16, 6))\n",
    "sns.boxplot(data = hd2)"
   ]
  },
  {
   "cell_type": "code",
   "execution_count": 22,
   "id": "9217e320",
   "metadata": {
    "execution": {
     "iopub.execute_input": "2024-02-28T19:04:30.578806Z",
     "iopub.status.busy": "2024-02-28T19:04:30.578182Z",
     "iopub.status.idle": "2024-02-28T19:04:30.619455Z",
     "shell.execute_reply": "2024-02-28T19:04:30.618378Z"
    },
    "papermill": {
     "duration": 0.068807,
     "end_time": "2024-02-28T19:04:30.621722",
     "exception": false,
     "start_time": "2024-02-28T19:04:30.552915",
     "status": "completed"
    },
    "tags": []
   },
   "outputs": [
    {
     "data": {
      "text/html": [
       "<div>\n",
       "<style scoped>\n",
       "    .dataframe tbody tr th:only-of-type {\n",
       "        vertical-align: middle;\n",
       "    }\n",
       "\n",
       "    .dataframe tbody tr th {\n",
       "        vertical-align: top;\n",
       "    }\n",
       "\n",
       "    .dataframe thead th {\n",
       "        text-align: right;\n",
       "    }\n",
       "</style>\n",
       "<table border=\"1\" class=\"dataframe\">\n",
       "  <thead>\n",
       "    <tr style=\"text-align: right;\">\n",
       "      <th></th>\n",
       "      <th>age</th>\n",
       "      <th>sex</th>\n",
       "      <th>cp</th>\n",
       "      <th>trestbps</th>\n",
       "      <th>chol</th>\n",
       "      <th>fbs</th>\n",
       "      <th>restecg</th>\n",
       "      <th>thalach</th>\n",
       "      <th>exang</th>\n",
       "      <th>oldpeak</th>\n",
       "      <th>slope</th>\n",
       "      <th>ca</th>\n",
       "      <th>thal</th>\n",
       "      <th>target</th>\n",
       "    </tr>\n",
       "  </thead>\n",
       "  <tbody>\n",
       "    <tr>\n",
       "      <th>count</th>\n",
       "      <td>291.000000</td>\n",
       "      <td>291.000000</td>\n",
       "      <td>291.000000</td>\n",
       "      <td>291.000000</td>\n",
       "      <td>291.000000</td>\n",
       "      <td>291.000000</td>\n",
       "      <td>291.000000</td>\n",
       "      <td>291.000000</td>\n",
       "      <td>291.000000</td>\n",
       "      <td>291.000000</td>\n",
       "      <td>291.000000</td>\n",
       "      <td>291.000000</td>\n",
       "      <td>291.000000</td>\n",
       "      <td>291.000000</td>\n",
       "    </tr>\n",
       "    <tr>\n",
       "      <th>mean</th>\n",
       "      <td>54.158076</td>\n",
       "      <td>0.701031</td>\n",
       "      <td>0.969072</td>\n",
       "      <td>130.491409</td>\n",
       "      <td>241.907216</td>\n",
       "      <td>0.144330</td>\n",
       "      <td>0.536082</td>\n",
       "      <td>149.457045</td>\n",
       "      <td>0.323024</td>\n",
       "      <td>1.016151</td>\n",
       "      <td>1.402062</td>\n",
       "      <td>0.714777</td>\n",
       "      <td>2.305842</td>\n",
       "      <td>0.546392</td>\n",
       "    </tr>\n",
       "    <tr>\n",
       "      <th>std</th>\n",
       "      <td>9.064278</td>\n",
       "      <td>0.458595</td>\n",
       "      <td>1.035111</td>\n",
       "      <td>16.142761</td>\n",
       "      <td>44.214699</td>\n",
       "      <td>0.352029</td>\n",
       "      <td>0.519851</td>\n",
       "      <td>23.061553</td>\n",
       "      <td>0.468437</td>\n",
       "      <td>1.143368</td>\n",
       "      <td>0.615766</td>\n",
       "      <td>1.005719</td>\n",
       "      <td>0.615266</td>\n",
       "      <td>0.498701</td>\n",
       "    </tr>\n",
       "    <tr>\n",
       "      <th>min</th>\n",
       "      <td>29.000000</td>\n",
       "      <td>0.000000</td>\n",
       "      <td>0.000000</td>\n",
       "      <td>94.000000</td>\n",
       "      <td>126.000000</td>\n",
       "      <td>0.000000</td>\n",
       "      <td>0.000000</td>\n",
       "      <td>71.000000</td>\n",
       "      <td>0.000000</td>\n",
       "      <td>0.000000</td>\n",
       "      <td>0.000000</td>\n",
       "      <td>0.000000</td>\n",
       "      <td>0.000000</td>\n",
       "      <td>0.000000</td>\n",
       "    </tr>\n",
       "    <tr>\n",
       "      <th>25%</th>\n",
       "      <td>47.000000</td>\n",
       "      <td>0.000000</td>\n",
       "      <td>0.000000</td>\n",
       "      <td>120.000000</td>\n",
       "      <td>210.500000</td>\n",
       "      <td>0.000000</td>\n",
       "      <td>0.000000</td>\n",
       "      <td>132.500000</td>\n",
       "      <td>0.000000</td>\n",
       "      <td>0.000000</td>\n",
       "      <td>1.000000</td>\n",
       "      <td>0.000000</td>\n",
       "      <td>2.000000</td>\n",
       "      <td>0.000000</td>\n",
       "    </tr>\n",
       "    <tr>\n",
       "      <th>50%</th>\n",
       "      <td>55.000000</td>\n",
       "      <td>1.000000</td>\n",
       "      <td>1.000000</td>\n",
       "      <td>130.000000</td>\n",
       "      <td>239.000000</td>\n",
       "      <td>0.000000</td>\n",
       "      <td>1.000000</td>\n",
       "      <td>152.000000</td>\n",
       "      <td>0.000000</td>\n",
       "      <td>0.600000</td>\n",
       "      <td>1.000000</td>\n",
       "      <td>0.000000</td>\n",
       "      <td>2.000000</td>\n",
       "      <td>1.000000</td>\n",
       "    </tr>\n",
       "    <tr>\n",
       "      <th>75%</th>\n",
       "      <td>60.000000</td>\n",
       "      <td>1.000000</td>\n",
       "      <td>2.000000</td>\n",
       "      <td>140.000000</td>\n",
       "      <td>270.000000</td>\n",
       "      <td>0.000000</td>\n",
       "      <td>1.000000</td>\n",
       "      <td>166.500000</td>\n",
       "      <td>1.000000</td>\n",
       "      <td>1.600000</td>\n",
       "      <td>2.000000</td>\n",
       "      <td>1.000000</td>\n",
       "      <td>3.000000</td>\n",
       "      <td>1.000000</td>\n",
       "    </tr>\n",
       "    <tr>\n",
       "      <th>max</th>\n",
       "      <td>77.000000</td>\n",
       "      <td>1.000000</td>\n",
       "      <td>3.000000</td>\n",
       "      <td>178.000000</td>\n",
       "      <td>354.000000</td>\n",
       "      <td>1.000000</td>\n",
       "      <td>2.000000</td>\n",
       "      <td>202.000000</td>\n",
       "      <td>1.000000</td>\n",
       "      <td>6.200000</td>\n",
       "      <td>2.000000</td>\n",
       "      <td>4.000000</td>\n",
       "      <td>3.000000</td>\n",
       "      <td>1.000000</td>\n",
       "    </tr>\n",
       "  </tbody>\n",
       "</table>\n",
       "</div>"
      ],
      "text/plain": [
       "              age         sex          cp    trestbps        chol         fbs  \\\n",
       "count  291.000000  291.000000  291.000000  291.000000  291.000000  291.000000   \n",
       "mean    54.158076    0.701031    0.969072  130.491409  241.907216    0.144330   \n",
       "std      9.064278    0.458595    1.035111   16.142761   44.214699    0.352029   \n",
       "min     29.000000    0.000000    0.000000   94.000000  126.000000    0.000000   \n",
       "25%     47.000000    0.000000    0.000000  120.000000  210.500000    0.000000   \n",
       "50%     55.000000    1.000000    1.000000  130.000000  239.000000    0.000000   \n",
       "75%     60.000000    1.000000    2.000000  140.000000  270.000000    0.000000   \n",
       "max     77.000000    1.000000    3.000000  178.000000  354.000000    1.000000   \n",
       "\n",
       "          restecg     thalach       exang     oldpeak       slope          ca  \\\n",
       "count  291.000000  291.000000  291.000000  291.000000  291.000000  291.000000   \n",
       "mean     0.536082  149.457045    0.323024    1.016151    1.402062    0.714777   \n",
       "std      0.519851   23.061553    0.468437    1.143368    0.615766    1.005719   \n",
       "min      0.000000   71.000000    0.000000    0.000000    0.000000    0.000000   \n",
       "25%      0.000000  132.500000    0.000000    0.000000    1.000000    0.000000   \n",
       "50%      1.000000  152.000000    0.000000    0.600000    1.000000    0.000000   \n",
       "75%      1.000000  166.500000    1.000000    1.600000    2.000000    1.000000   \n",
       "max      2.000000  202.000000    1.000000    6.200000    2.000000    4.000000   \n",
       "\n",
       "             thal      target  \n",
       "count  291.000000  291.000000  \n",
       "mean     2.305842    0.546392  \n",
       "std      0.615266    0.498701  \n",
       "min      0.000000    0.000000  \n",
       "25%      2.000000    0.000000  \n",
       "50%      2.000000    1.000000  \n",
       "75%      3.000000    1.000000  \n",
       "max      3.000000    1.000000  "
      ]
     },
     "execution_count": 22,
     "metadata": {},
     "output_type": "execute_result"
    }
   ],
   "source": [
    "hd2.describe()"
   ]
  },
  {
   "cell_type": "code",
   "execution_count": 23,
   "id": "80c3e1ac",
   "metadata": {
    "execution": {
     "iopub.execute_input": "2024-02-28T19:04:30.671813Z",
     "iopub.status.busy": "2024-02-28T19:04:30.671371Z",
     "iopub.status.idle": "2024-02-28T19:04:30.679076Z",
     "shell.execute_reply": "2024-02-28T19:04:30.678088Z"
    },
    "papermill": {
     "duration": 0.035104,
     "end_time": "2024-02-28T19:04:30.680958",
     "exception": false,
     "start_time": "2024-02-28T19:04:30.645854",
     "status": "completed"
    },
    "tags": []
   },
   "outputs": [
    {
     "data": {
      "text/plain": [
       "88.9"
      ]
     },
     "execution_count": 23,
     "metadata": {},
     "output_type": "execute_result"
    }
   ],
   "source": [
    "hd2['thalach'].quantile(0.005)"
   ]
  },
  {
   "cell_type": "code",
   "execution_count": 24,
   "id": "f413dc83",
   "metadata": {
    "execution": {
     "iopub.execute_input": "2024-02-28T19:04:30.731676Z",
     "iopub.status.busy": "2024-02-28T19:04:30.731043Z",
     "iopub.status.idle": "2024-02-28T19:04:30.737666Z",
     "shell.execute_reply": "2024-02-28T19:04:30.736660Z"
    },
    "papermill": {
     "duration": 0.034719,
     "end_time": "2024-02-28T19:04:30.739794",
     "exception": false,
     "start_time": "2024-02-28T19:04:30.705075",
     "status": "completed"
    },
    "tags": []
   },
   "outputs": [],
   "source": [
    "hd3 = hd2[hd2['thalach'] > hd2['thalach'].quantile(0.005)]"
   ]
  },
  {
   "cell_type": "code",
   "execution_count": 25,
   "id": "d02594ee",
   "metadata": {
    "execution": {
     "iopub.execute_input": "2024-02-28T19:04:30.790406Z",
     "iopub.status.busy": "2024-02-28T19:04:30.790012Z",
     "iopub.status.idle": "2024-02-28T19:04:31.264224Z",
     "shell.execute_reply": "2024-02-28T19:04:31.263055Z"
    },
    "papermill": {
     "duration": 0.502738,
     "end_time": "2024-02-28T19:04:31.266827",
     "exception": false,
     "start_time": "2024-02-28T19:04:30.764089",
     "status": "completed"
    },
    "tags": []
   },
   "outputs": [
    {
     "data": {
      "text/plain": [
       "<Axes: >"
      ]
     },
     "execution_count": 25,
     "metadata": {},
     "output_type": "execute_result"
    },
    {
     "data": {
      "image/png": "[encoded data removed]",
      "text/plain": [
       "<Figure size 1600x600 with 1 Axes>"
      ]
     },
     "metadata": {},
     "output_type": "display_data"
    }
   ],
   "source": [
    "plt.figure(figsize = (16,6))\n",
    "sns.boxplot(data = hd3)"
   ]
  },
  {
   "cell_type": "code",
   "execution_count": 26,
   "id": "37fcb2a1",
   "metadata": {
    "execution": {
     "iopub.execute_input": "2024-02-28T19:04:31.319238Z",
     "iopub.status.busy": "2024-02-28T19:04:31.318863Z",
     "iopub.status.idle": "2024-02-28T19:04:31.362453Z",
     "shell.execute_reply": "2024-02-28T19:04:31.361369Z"
    },
    "papermill": {
     "duration": 0.07296,
     "end_time": "2024-02-28T19:04:31.364731",
     "exception": false,
     "start_time": "2024-02-28T19:04:31.291771",
     "status": "completed"
    },
    "tags": []
   },
   "outputs": [
    {
     "data": {
      "text/html": [
       "<div>\n",
       "<style scoped>\n",
       "    .dataframe tbody tr th:only-of-type {\n",
       "        vertical-align: middle;\n",
       "    }\n",
       "\n",
       "    .dataframe tbody tr th {\n",
       "        vertical-align: top;\n",
       "    }\n",
       "\n",
       "    .dataframe thead th {\n",
       "        text-align: right;\n",
       "    }\n",
       "</style>\n",
       "<table border=\"1\" class=\"dataframe\">\n",
       "  <thead>\n",
       "    <tr style=\"text-align: right;\">\n",
       "      <th></th>\n",
       "      <th>age</th>\n",
       "      <th>sex</th>\n",
       "      <th>cp</th>\n",
       "      <th>trestbps</th>\n",
       "      <th>chol</th>\n",
       "      <th>fbs</th>\n",
       "      <th>restecg</th>\n",
       "      <th>thalach</th>\n",
       "      <th>exang</th>\n",
       "      <th>oldpeak</th>\n",
       "      <th>slope</th>\n",
       "      <th>ca</th>\n",
       "      <th>thal</th>\n",
       "      <th>target</th>\n",
       "    </tr>\n",
       "  </thead>\n",
       "  <tbody>\n",
       "    <tr>\n",
       "      <th>count</th>\n",
       "      <td>289.000000</td>\n",
       "      <td>289.000000</td>\n",
       "      <td>289.000000</td>\n",
       "      <td>289.000000</td>\n",
       "      <td>289.000000</td>\n",
       "      <td>289.000000</td>\n",
       "      <td>289.000000</td>\n",
       "      <td>289.000000</td>\n",
       "      <td>289.000000</td>\n",
       "      <td>289.000000</td>\n",
       "      <td>289.000000</td>\n",
       "      <td>289.000000</td>\n",
       "      <td>289.000000</td>\n",
       "      <td>289.000000</td>\n",
       "    </tr>\n",
       "    <tr>\n",
       "      <th>mean</th>\n",
       "      <td>54.103806</td>\n",
       "      <td>0.698962</td>\n",
       "      <td>0.975779</td>\n",
       "      <td>130.453287</td>\n",
       "      <td>241.813149</td>\n",
       "      <td>0.145329</td>\n",
       "      <td>0.532872</td>\n",
       "      <td>149.941176</td>\n",
       "      <td>0.321799</td>\n",
       "      <td>1.015571</td>\n",
       "      <td>1.404844</td>\n",
       "      <td>0.716263</td>\n",
       "      <td>2.304498</td>\n",
       "      <td>0.550173</td>\n",
       "    </tr>\n",
       "    <tr>\n",
       "      <th>std</th>\n",
       "      <td>9.062454</td>\n",
       "      <td>0.459505</td>\n",
       "      <td>1.035533</td>\n",
       "      <td>16.137174</td>\n",
       "      <td>44.326594</td>\n",
       "      <td>0.353043</td>\n",
       "      <td>0.520209</td>\n",
       "      <td>22.378685</td>\n",
       "      <td>0.467977</td>\n",
       "      <td>1.147279</td>\n",
       "      <td>0.616985</td>\n",
       "      <td>1.008185</td>\n",
       "      <td>0.615777</td>\n",
       "      <td>0.498339</td>\n",
       "    </tr>\n",
       "    <tr>\n",
       "      <th>min</th>\n",
       "      <td>29.000000</td>\n",
       "      <td>0.000000</td>\n",
       "      <td>0.000000</td>\n",
       "      <td>94.000000</td>\n",
       "      <td>126.000000</td>\n",
       "      <td>0.000000</td>\n",
       "      <td>0.000000</td>\n",
       "      <td>90.000000</td>\n",
       "      <td>0.000000</td>\n",
       "      <td>0.000000</td>\n",
       "      <td>0.000000</td>\n",
       "      <td>0.000000</td>\n",
       "      <td>0.000000</td>\n",
       "      <td>0.000000</td>\n",
       "    </tr>\n",
       "    <tr>\n",
       "      <th>25%</th>\n",
       "      <td>47.000000</td>\n",
       "      <td>0.000000</td>\n",
       "      <td>0.000000</td>\n",
       "      <td>120.000000</td>\n",
       "      <td>210.000000</td>\n",
       "      <td>0.000000</td>\n",
       "      <td>0.000000</td>\n",
       "      <td>134.000000</td>\n",
       "      <td>0.000000</td>\n",
       "      <td>0.000000</td>\n",
       "      <td>1.000000</td>\n",
       "      <td>0.000000</td>\n",
       "      <td>2.000000</td>\n",
       "      <td>0.000000</td>\n",
       "    </tr>\n",
       "    <tr>\n",
       "      <th>50%</th>\n",
       "      <td>55.000000</td>\n",
       "      <td>1.000000</td>\n",
       "      <td>1.000000</td>\n",
       "      <td>130.000000</td>\n",
       "      <td>239.000000</td>\n",
       "      <td>0.000000</td>\n",
       "      <td>1.000000</td>\n",
       "      <td>153.000000</td>\n",
       "      <td>0.000000</td>\n",
       "      <td>0.600000</td>\n",
       "      <td>1.000000</td>\n",
       "      <td>0.000000</td>\n",
       "      <td>2.000000</td>\n",
       "      <td>1.000000</td>\n",
       "    </tr>\n",
       "    <tr>\n",
       "      <th>75%</th>\n",
       "      <td>60.000000</td>\n",
       "      <td>1.000000</td>\n",
       "      <td>2.000000</td>\n",
       "      <td>140.000000</td>\n",
       "      <td>270.000000</td>\n",
       "      <td>0.000000</td>\n",
       "      <td>1.000000</td>\n",
       "      <td>167.000000</td>\n",
       "      <td>1.000000</td>\n",
       "      <td>1.600000</td>\n",
       "      <td>2.000000</td>\n",
       "      <td>1.000000</td>\n",
       "      <td>3.000000</td>\n",
       "      <td>1.000000</td>\n",
       "    </tr>\n",
       "    <tr>\n",
       "      <th>max</th>\n",
       "      <td>77.000000</td>\n",
       "      <td>1.000000</td>\n",
       "      <td>3.000000</td>\n",
       "      <td>178.000000</td>\n",
       "      <td>354.000000</td>\n",
       "      <td>1.000000</td>\n",
       "      <td>2.000000</td>\n",
       "      <td>202.000000</td>\n",
       "      <td>1.000000</td>\n",
       "      <td>6.200000</td>\n",
       "      <td>2.000000</td>\n",
       "      <td>4.000000</td>\n",
       "      <td>3.000000</td>\n",
       "      <td>1.000000</td>\n",
       "    </tr>\n",
       "  </tbody>\n",
       "</table>\n",
       "</div>"
      ],
      "text/plain": [
       "              age         sex          cp    trestbps        chol         fbs  \\\n",
       "count  289.000000  289.000000  289.000000  289.000000  289.000000  289.000000   \n",
       "mean    54.103806    0.698962    0.975779  130.453287  241.813149    0.145329   \n",
       "std      9.062454    0.459505    1.035533   16.137174   44.326594    0.353043   \n",
       "min     29.000000    0.000000    0.000000   94.000000  126.000000    0.000000   \n",
       "25%     47.000000    0.000000    0.000000  120.000000  210.000000    0.000000   \n",
       "50%     55.000000    1.000000    1.000000  130.000000  239.000000    0.000000   \n",
       "75%     60.000000    1.000000    2.000000  140.000000  270.000000    0.000000   \n",
       "max     77.000000    1.000000    3.000000  178.000000  354.000000    1.000000   \n",
       "\n",
       "          restecg     thalach       exang     oldpeak       slope          ca  \\\n",
       "count  289.000000  289.000000  289.000000  289.000000  289.000000  289.000000   \n",
       "mean     0.532872  149.941176    0.321799    1.015571    1.404844    0.716263   \n",
       "std      0.520209   22.378685    0.467977    1.147279    0.616985    1.008185   \n",
       "min      0.000000   90.000000    0.000000    0.000000    0.000000    0.000000   \n",
       "25%      0.000000  134.000000    0.000000    0.000000    1.000000    0.000000   \n",
       "50%      1.000000  153.000000    0.000000    0.600000    1.000000    0.000000   \n",
       "75%      1.000000  167.000000    1.000000    1.600000    2.000000    1.000000   \n",
       "max      2.000000  202.000000    1.000000    6.200000    2.000000    4.000000   \n",
       "\n",
       "             thal      target  \n",
       "count  289.000000  289.000000  \n",
       "mean     2.304498    0.550173  \n",
       "std      0.615777    0.498339  \n",
       "min      0.000000    0.000000  \n",
       "25%      2.000000    0.000000  \n",
       "50%      2.000000    1.000000  \n",
       "75%      3.000000    1.000000  \n",
       "max      3.000000    1.000000  "
      ]
     },
     "execution_count": 26,
     "metadata": {},
     "output_type": "execute_result"
    }
   ],
   "source": [
    "hd3.describe()"
   ]
  },
  {
   "cell_type": "code",
   "execution_count": 27,
   "id": "da6c5b83",
   "metadata": {
    "execution": {
     "iopub.execute_input": "2024-02-28T19:04:31.417917Z",
     "iopub.status.busy": "2024-02-28T19:04:31.417236Z",
     "iopub.status.idle": "2024-02-28T19:04:31.422052Z",
     "shell.execute_reply": "2024-02-28T19:04:31.421110Z"
    },
    "papermill": {
     "duration": 0.033449,
     "end_time": "2024-02-28T19:04:31.424387",
     "exception": false,
     "start_time": "2024-02-28T19:04:31.390938",
     "status": "completed"
    },
    "tags": []
   },
   "outputs": [],
   "source": [
    "num_data = ['age', 'trestbps', 'chol', 'thalach', 'oldpeak']\n",
    "cate_data = ['sex', 'cp', 'fbs', 'restecg', 'exang', 'slope', 'ca', 'thal']"
   ]
  },
  {
   "cell_type": "code",
   "execution_count": 28,
   "id": "7daf9c37",
   "metadata": {
    "execution": {
     "iopub.execute_input": "2024-02-28T19:04:31.476457Z",
     "iopub.status.busy": "2024-02-28T19:04:31.476114Z",
     "iopub.status.idle": "2024-02-28T19:04:31.509955Z",
     "shell.execute_reply": "2024-02-28T19:04:31.508728Z"
    },
    "papermill": {
     "duration": 0.063324,
     "end_time": "2024-02-28T19:04:31.512427",
     "exception": false,
     "start_time": "2024-02-28T19:04:31.449103",
     "status": "completed"
    },
    "tags": []
   },
   "outputs": [
    {
     "data": {
      "text/html": [
       "<div>\n",
       "<style scoped>\n",
       "    .dataframe tbody tr th:only-of-type {\n",
       "        vertical-align: middle;\n",
       "    }\n",
       "\n",
       "    .dataframe tbody tr th {\n",
       "        vertical-align: top;\n",
       "    }\n",
       "\n",
       "    .dataframe thead th {\n",
       "        text-align: right;\n",
       "    }\n",
       "</style>\n",
       "<table border=\"1\" class=\"dataframe\">\n",
       "  <thead>\n",
       "    <tr style=\"text-align: right;\">\n",
       "      <th></th>\n",
       "      <th>age</th>\n",
       "      <th>trestbps</th>\n",
       "      <th>chol</th>\n",
       "      <th>thalach</th>\n",
       "      <th>oldpeak</th>\n",
       "      <th>target</th>\n",
       "      <th>sex_0</th>\n",
       "      <th>sex_1</th>\n",
       "      <th>cp_0</th>\n",
       "      <th>cp_1</th>\n",
       "      <th>...</th>\n",
       "      <th>slope_2</th>\n",
       "      <th>ca_0</th>\n",
       "      <th>ca_1</th>\n",
       "      <th>ca_2</th>\n",
       "      <th>ca_3</th>\n",
       "      <th>ca_4</th>\n",
       "      <th>thal_0</th>\n",
       "      <th>thal_1</th>\n",
       "      <th>thal_2</th>\n",
       "      <th>thal_3</th>\n",
       "    </tr>\n",
       "  </thead>\n",
       "  <tbody>\n",
       "    <tr>\n",
       "      <th>0</th>\n",
       "      <td>52</td>\n",
       "      <td>125</td>\n",
       "      <td>212</td>\n",
       "      <td>168</td>\n",
       "      <td>1.0</td>\n",
       "      <td>0</td>\n",
       "      <td>False</td>\n",
       "      <td>True</td>\n",
       "      <td>True</td>\n",
       "      <td>False</td>\n",
       "      <td>...</td>\n",
       "      <td>True</td>\n",
       "      <td>False</td>\n",
       "      <td>False</td>\n",
       "      <td>True</td>\n",
       "      <td>False</td>\n",
       "      <td>False</td>\n",
       "      <td>False</td>\n",
       "      <td>False</td>\n",
       "      <td>False</td>\n",
       "      <td>True</td>\n",
       "    </tr>\n",
       "    <tr>\n",
       "      <th>1</th>\n",
       "      <td>53</td>\n",
       "      <td>140</td>\n",
       "      <td>203</td>\n",
       "      <td>155</td>\n",
       "      <td>3.1</td>\n",
       "      <td>0</td>\n",
       "      <td>False</td>\n",
       "      <td>True</td>\n",
       "      <td>True</td>\n",
       "      <td>False</td>\n",
       "      <td>...</td>\n",
       "      <td>False</td>\n",
       "      <td>True</td>\n",
       "      <td>False</td>\n",
       "      <td>False</td>\n",
       "      <td>False</td>\n",
       "      <td>False</td>\n",
       "      <td>False</td>\n",
       "      <td>False</td>\n",
       "      <td>False</td>\n",
       "      <td>True</td>\n",
       "    </tr>\n",
       "    <tr>\n",
       "      <th>2</th>\n",
       "      <td>70</td>\n",
       "      <td>145</td>\n",
       "      <td>174</td>\n",
       "      <td>125</td>\n",
       "      <td>2.6</td>\n",
       "      <td>0</td>\n",
       "      <td>False</td>\n",
       "      <td>True</td>\n",
       "      <td>True</td>\n",
       "      <td>False</td>\n",
       "      <td>...</td>\n",
       "      <td>False</td>\n",
       "      <td>True</td>\n",
       "      <td>False</td>\n",
       "      <td>False</td>\n",
       "      <td>False</td>\n",
       "      <td>False</td>\n",
       "      <td>False</td>\n",
       "      <td>False</td>\n",
       "      <td>False</td>\n",
       "      <td>True</td>\n",
       "    </tr>\n",
       "    <tr>\n",
       "      <th>3</th>\n",
       "      <td>61</td>\n",
       "      <td>148</td>\n",
       "      <td>203</td>\n",
       "      <td>161</td>\n",
       "      <td>0.0</td>\n",
       "      <td>0</td>\n",
       "      <td>False</td>\n",
       "      <td>True</td>\n",
       "      <td>True</td>\n",
       "      <td>False</td>\n",
       "      <td>...</td>\n",
       "      <td>True</td>\n",
       "      <td>False</td>\n",
       "      <td>True</td>\n",
       "      <td>False</td>\n",
       "      <td>False</td>\n",
       "      <td>False</td>\n",
       "      <td>False</td>\n",
       "      <td>False</td>\n",
       "      <td>False</td>\n",
       "      <td>True</td>\n",
       "    </tr>\n",
       "    <tr>\n",
       "      <th>4</th>\n",
       "      <td>62</td>\n",
       "      <td>138</td>\n",
       "      <td>294</td>\n",
       "      <td>106</td>\n",
       "      <td>1.9</td>\n",
       "      <td>0</td>\n",
       "      <td>True</td>\n",
       "      <td>False</td>\n",
       "      <td>True</td>\n",
       "      <td>False</td>\n",
       "      <td>...</td>\n",
       "      <td>False</td>\n",
       "      <td>False</td>\n",
       "      <td>False</td>\n",
       "      <td>False</td>\n",
       "      <td>True</td>\n",
       "      <td>False</td>\n",
       "      <td>False</td>\n",
       "      <td>False</td>\n",
       "      <td>True</td>\n",
       "      <td>False</td>\n",
       "    </tr>\n",
       "    <tr>\n",
       "      <th>...</th>\n",
       "      <td>...</td>\n",
       "      <td>...</td>\n",
       "      <td>...</td>\n",
       "      <td>...</td>\n",
       "      <td>...</td>\n",
       "      <td>...</td>\n",
       "      <td>...</td>\n",
       "      <td>...</td>\n",
       "      <td>...</td>\n",
       "      <td>...</td>\n",
       "      <td>...</td>\n",
       "      <td>...</td>\n",
       "      <td>...</td>\n",
       "      <td>...</td>\n",
       "      <td>...</td>\n",
       "      <td>...</td>\n",
       "      <td>...</td>\n",
       "      <td>...</td>\n",
       "      <td>...</td>\n",
       "      <td>...</td>\n",
       "      <td>...</td>\n",
       "    </tr>\n",
       "    <tr>\n",
       "      <th>723</th>\n",
       "      <td>68</td>\n",
       "      <td>120</td>\n",
       "      <td>211</td>\n",
       "      <td>115</td>\n",
       "      <td>1.5</td>\n",
       "      <td>1</td>\n",
       "      <td>True</td>\n",
       "      <td>False</td>\n",
       "      <td>False</td>\n",
       "      <td>False</td>\n",
       "      <td>...</td>\n",
       "      <td>False</td>\n",
       "      <td>True</td>\n",
       "      <td>False</td>\n",
       "      <td>False</td>\n",
       "      <td>False</td>\n",
       "      <td>False</td>\n",
       "      <td>False</td>\n",
       "      <td>False</td>\n",
       "      <td>True</td>\n",
       "      <td>False</td>\n",
       "    </tr>\n",
       "    <tr>\n",
       "      <th>733</th>\n",
       "      <td>44</td>\n",
       "      <td>108</td>\n",
       "      <td>141</td>\n",
       "      <td>175</td>\n",
       "      <td>0.6</td>\n",
       "      <td>1</td>\n",
       "      <td>True</td>\n",
       "      <td>False</td>\n",
       "      <td>False</td>\n",
       "      <td>False</td>\n",
       "      <td>...</td>\n",
       "      <td>False</td>\n",
       "      <td>True</td>\n",
       "      <td>False</td>\n",
       "      <td>False</td>\n",
       "      <td>False</td>\n",
       "      <td>False</td>\n",
       "      <td>False</td>\n",
       "      <td>False</td>\n",
       "      <td>True</td>\n",
       "      <td>False</td>\n",
       "    </tr>\n",
       "    <tr>\n",
       "      <th>739</th>\n",
       "      <td>52</td>\n",
       "      <td>128</td>\n",
       "      <td>255</td>\n",
       "      <td>161</td>\n",
       "      <td>0.0</td>\n",
       "      <td>0</td>\n",
       "      <td>False</td>\n",
       "      <td>True</td>\n",
       "      <td>True</td>\n",
       "      <td>False</td>\n",
       "      <td>...</td>\n",
       "      <td>True</td>\n",
       "      <td>False</td>\n",
       "      <td>True</td>\n",
       "      <td>False</td>\n",
       "      <td>False</td>\n",
       "      <td>False</td>\n",
       "      <td>False</td>\n",
       "      <td>False</td>\n",
       "      <td>False</td>\n",
       "      <td>True</td>\n",
       "    </tr>\n",
       "    <tr>\n",
       "      <th>843</th>\n",
       "      <td>59</td>\n",
       "      <td>160</td>\n",
       "      <td>273</td>\n",
       "      <td>125</td>\n",
       "      <td>0.0</td>\n",
       "      <td>0</td>\n",
       "      <td>False</td>\n",
       "      <td>True</td>\n",
       "      <td>False</td>\n",
       "      <td>False</td>\n",
       "      <td>...</td>\n",
       "      <td>True</td>\n",
       "      <td>True</td>\n",
       "      <td>False</td>\n",
       "      <td>False</td>\n",
       "      <td>False</td>\n",
       "      <td>False</td>\n",
       "      <td>False</td>\n",
       "      <td>False</td>\n",
       "      <td>True</td>\n",
       "      <td>False</td>\n",
       "    </tr>\n",
       "    <tr>\n",
       "      <th>878</th>\n",
       "      <td>54</td>\n",
       "      <td>120</td>\n",
       "      <td>188</td>\n",
       "      <td>113</td>\n",
       "      <td>1.4</td>\n",
       "      <td>0</td>\n",
       "      <td>False</td>\n",
       "      <td>True</td>\n",
       "      <td>True</td>\n",
       "      <td>False</td>\n",
       "      <td>...</td>\n",
       "      <td>False</td>\n",
       "      <td>False</td>\n",
       "      <td>True</td>\n",
       "      <td>False</td>\n",
       "      <td>False</td>\n",
       "      <td>False</td>\n",
       "      <td>False</td>\n",
       "      <td>False</td>\n",
       "      <td>False</td>\n",
       "      <td>True</td>\n",
       "    </tr>\n",
       "  </tbody>\n",
       "</table>\n",
       "<p>289 rows × 31 columns</p>\n",
       "</div>"
      ],
      "text/plain": [
       "     age  trestbps  chol  thalach  oldpeak  target  sex_0  sex_1   cp_0  \\\n",
       "0     52       125   212      168      1.0       0  False   True   True   \n",
       "1     53       140   203      155      3.1       0  False   True   True   \n",
       "2     70       145   174      125      2.6       0  False   True   True   \n",
       "3     61       148   203      161      0.0       0  False   True   True   \n",
       "4     62       138   294      106      1.9       0   True  False   True   \n",
       "..   ...       ...   ...      ...      ...     ...    ...    ...    ...   \n",
       "723   68       120   211      115      1.5       1   True  False  False   \n",
       "733   44       108   141      175      0.6       1   True  False  False   \n",
       "739   52       128   255      161      0.0       0  False   True   True   \n",
       "843   59       160   273      125      0.0       0  False   True  False   \n",
       "878   54       120   188      113      1.4       0  False   True   True   \n",
       "\n",
       "      cp_1  ...  slope_2   ca_0   ca_1   ca_2   ca_3   ca_4  thal_0  thal_1  \\\n",
       "0    False  ...     True  False  False   True  False  False   False   False   \n",
       "1    False  ...    False   True  False  False  False  False   False   False   \n",
       "2    False  ...    False   True  False  False  False  False   False   False   \n",
       "3    False  ...     True  False   True  False  False  False   False   False   \n",
       "4    False  ...    False  False  False  False   True  False   False   False   \n",
       "..     ...  ...      ...    ...    ...    ...    ...    ...     ...     ...   \n",
       "723  False  ...    False   True  False  False  False  False   False   False   \n",
       "733  False  ...    False   True  False  False  False  False   False   False   \n",
       "739  False  ...     True  False   True  False  False  False   False   False   \n",
       "843  False  ...     True   True  False  False  False  False   False   False   \n",
       "878  False  ...    False  False   True  False  False  False   False   False   \n",
       "\n",
       "     thal_2  thal_3  \n",
       "0     False    True  \n",
       "1     False    True  \n",
       "2     False    True  \n",
       "3     False    True  \n",
       "4      True   False  \n",
       "..      ...     ...  \n",
       "723    True   False  \n",
       "733    True   False  \n",
       "739   False    True  \n",
       "843    True   False  \n",
       "878   False    True  \n",
       "\n",
       "[289 rows x 31 columns]"
      ]
     },
     "execution_count": 28,
     "metadata": {},
     "output_type": "execute_result"
    }
   ],
   "source": [
    "hd4 = pd.get_dummies(hd3, columns = ['sex', 'cp', 'fbs', 'restecg', 'exang', 'slope', 'ca', 'thal'])\n",
    "hd4"
   ]
  },
  {
   "cell_type": "code",
   "execution_count": 29,
   "id": "d35967f1",
   "metadata": {
    "execution": {
     "iopub.execute_input": "2024-02-28T19:04:31.565226Z",
     "iopub.status.busy": "2024-02-28T19:04:31.564804Z",
     "iopub.status.idle": "2024-02-28T19:04:31.572064Z",
     "shell.execute_reply": "2024-02-28T19:04:31.571022Z"
    },
    "papermill": {
     "duration": 0.036431,
     "end_time": "2024-02-28T19:04:31.574179",
     "exception": false,
     "start_time": "2024-02-28T19:04:31.537748",
     "status": "completed"
    },
    "tags": []
   },
   "outputs": [
    {
     "data": {
      "text/plain": [
       "(354, 126)"
      ]
     },
     "execution_count": 29,
     "metadata": {},
     "output_type": "execute_result"
    }
   ],
   "source": [
    "hd4['chol'].max(), hd4['chol'].min()"
   ]
  },
  {
   "cell_type": "code",
   "execution_count": 30,
   "id": "5bbecd53",
   "metadata": {
    "execution": {
     "iopub.execute_input": "2024-02-28T19:04:31.627358Z",
     "iopub.status.busy": "2024-02-28T19:04:31.626500Z",
     "iopub.status.idle": "2024-02-28T19:04:31.632821Z",
     "shell.execute_reply": "2024-02-28T19:04:31.631665Z"
    },
    "papermill": {
     "duration": 0.035668,
     "end_time": "2024-02-28T19:04:31.635100",
     "exception": false,
     "start_time": "2024-02-28T19:04:31.599432",
     "status": "completed"
    },
    "tags": []
   },
   "outputs": [],
   "source": [
    "X = hd4.drop('target', axis = 1)\n",
    "y = hd4['target']\n"
   ]
  },
  {
   "cell_type": "code",
   "execution_count": 31,
   "id": "f4a8f1b7",
   "metadata": {
    "execution": {
     "iopub.execute_input": "2024-02-28T19:04:31.688929Z",
     "iopub.status.busy": "2024-02-28T19:04:31.688545Z",
     "iopub.status.idle": "2024-02-28T19:04:31.695223Z",
     "shell.execute_reply": "2024-02-28T19:04:31.694136Z"
    },
    "papermill": {
     "duration": 0.036052,
     "end_time": "2024-02-28T19:04:31.697379",
     "exception": false,
     "start_time": "2024-02-28T19:04:31.661327",
     "status": "completed"
    },
    "tags": []
   },
   "outputs": [],
   "source": [
    "X_train, X_test, y_train, y_test = train_test_split(X, y, test_size = 0.2, random_state = 42)"
   ]
  },
  {
   "cell_type": "code",
   "execution_count": 32,
   "id": "b05e66cf",
   "metadata": {
    "execution": {
     "iopub.execute_input": "2024-02-28T19:04:31.750630Z",
     "iopub.status.busy": "2024-02-28T19:04:31.750259Z",
     "iopub.status.idle": "2024-02-28T19:04:31.754801Z",
     "shell.execute_reply": "2024-02-28T19:04:31.753602Z"
    },
    "papermill": {
     "duration": 0.034049,
     "end_time": "2024-02-28T19:04:31.757052",
     "exception": false,
     "start_time": "2024-02-28T19:04:31.723003",
     "status": "completed"
    },
    "tags": []
   },
   "outputs": [],
   "source": [
    "log = LogisticRegression(max_iter=1000)"
   ]
  },
  {
   "cell_type": "code",
   "execution_count": 33,
   "id": "a660c444",
   "metadata": {
    "execution": {
     "iopub.execute_input": "2024-02-28T19:04:31.809712Z",
     "iopub.status.busy": "2024-02-28T19:04:31.809335Z",
     "iopub.status.idle": "2024-02-28T19:04:31.903439Z",
     "shell.execute_reply": "2024-02-28T19:04:31.902158Z"
    },
    "papermill": {
     "duration": 0.123638,
     "end_time": "2024-02-28T19:04:31.906097",
     "exception": false,
     "start_time": "2024-02-28T19:04:31.782459",
     "status": "completed"
    },
    "tags": []
   },
   "outputs": [
    {
     "data": {
      "text/html": [
       "<style>#sk-container-id-1 {color: black;background-color: white;}#sk-container-id-1 pre{padding: 0;}#sk-container-id-1 div.sk-toggleable {background-color: white;}#sk-container-id-1 label.sk-toggleable__label {cursor: pointer;display: block;width: 100%;margin-bottom: 0;padding: 0.3em;box-sizing: border-box;text-align: center;}#sk-container-id-1 label.sk-toggleable__label-arrow:before {content: \"▸\";float: left;margin-right: 0.25em;color: #696969;}#sk-container-id-1 label.sk-toggleable__label-arrow:hover:before {color: black;}#sk-container-id-1 div.sk-estimator:hover label.sk-toggleable__label-arrow:before {color: black;}#sk-container-id-1 div.sk-toggleable__content {max-height: 0;max-width: 0;overflow: hidden;text-align: left;background-color: #f0f8ff;}#sk-container-id-1 div.sk-toggleable__content pre {margin: 0.2em;color: black;border-radius: 0.25em;background-color: #f0f8ff;}#sk-container-id-1 input.sk-toggleable__control:checked~div.sk-toggleable__content {max-height: 200px;max-width: 100%;overflow: auto;}#sk-container-id-1 input.sk-toggleable__control:checked~label.sk-toggleable__label-arrow:before {content: \"▾\";}#sk-container-id-1 div.sk-estimator input.sk-toggleable__control:checked~label.sk-toggleable__label {background-color: #d4ebff;}#sk-container-id-1 div.sk-label input.sk-toggleable__control:checked~label.sk-toggleable__label {background-color: #d4ebff;}#sk-container-id-1 input.sk-hidden--visually {border: 0;clip: rect(1px 1px 1px 1px);clip: rect(1px, 1px, 1px, 1px);height: 1px;margin: -1px;overflow: hidden;padding: 0;position: absolute;width: 1px;}#sk-container-id-1 div.sk-estimator {font-family: monospace;background-color: #f0f8ff;border: 1px dotted black;border-radius: 0.25em;box-sizing: border-box;margin-bottom: 0.5em;}#sk-container-id-1 div.sk-estimator:hover {background-color: #d4ebff;}#sk-container-id-1 div.sk-parallel-item::after {content: \"\";width: 100%;border-bottom: 1px solid gray;flex-grow: 1;}#sk-container-id-1 div.sk-label:hover label.sk-toggleable__label {background-color: #d4ebff;}#sk-container-id-1 div.sk-serial::before {content: \"\";position: absolute;border-left: 1px solid gray;box-sizing: border-box;top: 0;bottom: 0;left: 50%;z-index: 0;}#sk-container-id-1 div.sk-serial {display: flex;flex-direction: column;align-items: center;background-color: white;padding-right: 0.2em;padding-left: 0.2em;position: relative;}#sk-container-id-1 div.sk-item {position: relative;z-index: 1;}#sk-container-id-1 div.sk-parallel {display: flex;align-items: stretch;justify-content: center;background-color: white;position: relative;}#sk-container-id-1 div.sk-item::before, #sk-container-id-1 div.sk-parallel-item::before {content: \"\";position: absolute;border-left: 1px solid gray;box-sizing: border-box;top: 0;bottom: 0;left: 50%;z-index: -1;}#sk-container-id-1 div.sk-parallel-item {display: flex;flex-direction: column;z-index: 1;position: relative;background-color: white;}#sk-container-id-1 div.sk-parallel-item:first-child::after {align-self: flex-end;width: 50%;}#sk-container-id-1 div.sk-parallel-item:last-child::after {align-self: flex-start;width: 50%;}#sk-container-id-1 div.sk-parallel-item:only-child::after {width: 0;}#sk-container-id-1 div.sk-dashed-wrapped {border: 1px dashed gray;margin: 0 0.4em 0.5em 0.4em;box-sizing: border-box;padding-bottom: 0.4em;background-color: white;}#sk-container-id-1 div.sk-label label {font-family: monospace;font-weight: bold;display: inline-block;line-height: 1.2em;}#sk-container-id-1 div.sk-label-container {text-align: center;}#sk-container-id-1 div.sk-container {/* jupyter's `normalize.less` sets `[hidden] { display: none; }` but bootstrap.min.css set `[hidden] { display: none !important; }` so we also need the `!important` here to be able to override the default hidden behavior on the sphinx rendered scikit-learn.org. See: https://github.com/scikit-learn/scikit-learn/issues/21755 */display: inline-block !important;position: relative;}#sk-container-id-1 div.sk-text-repr-fallback {display: none;}</style><div id=\"sk-container-id-1\" class=\"sk-top-container\"><div class=\"sk-text-repr-fallback\"><pre>LogisticRegression(max_iter=1000)</pre><b>In a Jupyter environment, please rerun this cell to show the HTML representation or trust the notebook. <br />On GitHub, the HTML representation is unable to render, please try loading this page with nbviewer.org.</b></div><div class=\"sk-container\" hidden><div class=\"sk-item\"><div class=\"sk-estimator sk-toggleable\"><input class=\"sk-toggleable__control sk-hidden--visually\" id=\"sk-estimator-id-1\" type=\"checkbox\" checked><label for=\"sk-estimator-id-1\" class=\"sk-toggleable__label sk-toggleable__label-arrow\">LogisticRegression</label><div class=\"sk-toggleable__content\"><pre>LogisticRegression(max_iter=1000)</pre></div></div></div></div></div>"
      ],
      "text/plain": [
       "LogisticRegression(max_iter=1000)"
      ]
     },
     "execution_count": 33,
     "metadata": {},
     "output_type": "execute_result"
    }
   ],
   "source": [
    "log.fit(X_train, y_train)"
   ]
  },
  {
   "cell_type": "code",
   "execution_count": 34,
   "id": "262e0b48",
   "metadata": {
    "execution": {
     "iopub.execute_input": "2024-02-28T19:04:31.962585Z",
     "iopub.status.busy": "2024-02-28T19:04:31.961585Z",
     "iopub.status.idle": "2024-02-28T19:04:31.972167Z",
     "shell.execute_reply": "2024-02-28T19:04:31.971094Z"
    },
    "papermill": {
     "duration": 0.04072,
     "end_time": "2024-02-28T19:04:31.974166",
     "exception": false,
     "start_time": "2024-02-28T19:04:31.933446",
     "status": "completed"
    },
    "tags": []
   },
   "outputs": [
    {
     "data": {
      "text/plain": [
       "0.8744588744588745"
      ]
     },
     "execution_count": 34,
     "metadata": {},
     "output_type": "execute_result"
    }
   ],
   "source": [
    "log.score(X_train, y_train)"
   ]
  },
  {
   "cell_type": "code",
   "execution_count": 35,
   "id": "047b527d",
   "metadata": {
    "execution": {
     "iopub.execute_input": "2024-02-28T19:04:32.031264Z",
     "iopub.status.busy": "2024-02-28T19:04:32.030184Z",
     "iopub.status.idle": "2024-02-28T19:04:32.040149Z",
     "shell.execute_reply": "2024-02-28T19:04:32.039000Z"
    },
    "papermill": {
     "duration": 0.041428,
     "end_time": "2024-02-28T19:04:32.042336",
     "exception": false,
     "start_time": "2024-02-28T19:04:32.000908",
     "status": "completed"
    },
    "tags": []
   },
   "outputs": [
    {
     "data": {
      "text/plain": [
       "0.8448275862068966"
      ]
     },
     "execution_count": 35,
     "metadata": {},
     "output_type": "execute_result"
    }
   ],
   "source": [
    "log.score(X_test, y_test)"
   ]
  },
  {
   "cell_type": "code",
   "execution_count": 36,
   "id": "8f54c93e",
   "metadata": {
    "execution": {
     "iopub.execute_input": "2024-02-28T19:04:32.098189Z",
     "iopub.status.busy": "2024-02-28T19:04:32.097093Z",
     "iopub.status.idle": "2024-02-28T19:04:32.106417Z",
     "shell.execute_reply": "2024-02-28T19:04:32.105705Z"
    },
    "papermill": {
     "duration": 0.039376,
     "end_time": "2024-02-28T19:04:32.108323",
     "exception": false,
     "start_time": "2024-02-28T19:04:32.068947",
     "status": "completed"
    },
    "tags": []
   },
   "outputs": [
    {
     "data": {
      "text/plain": [
       "array([1, 1, 1, 0, 1, 0, 0, 0, 1, 1, 1, 0, 1, 1, 1, 1, 1, 1, 1, 0, 1, 1,\n",
       "       1, 0, 1, 1, 0, 1, 0, 1, 0, 1, 1, 1, 1, 1, 0, 1, 1, 1, 1, 0, 0, 1,\n",
       "       0, 1, 0, 1, 0, 1, 1, 0, 0, 0, 0, 1, 1, 0])"
      ]
     },
     "execution_count": 36,
     "metadata": {},
     "output_type": "execute_result"
    }
   ],
   "source": [
    "######\n",
    "y_predict = log.predict(X_test)\n",
    "y_predict"
   ]
  },
  {
   "cell_type": "code",
   "execution_count": 37,
   "id": "50ba980d",
   "metadata": {
    "execution": {
     "iopub.execute_input": "2024-02-28T19:04:32.163840Z",
     "iopub.status.busy": "2024-02-28T19:04:32.163183Z",
     "iopub.status.idle": "2024-02-28T19:04:32.169487Z",
     "shell.execute_reply": "2024-02-28T19:04:32.168803Z"
    },
    "papermill": {
     "duration": 0.036375,
     "end_time": "2024-02-28T19:04:32.171307",
     "exception": false,
     "start_time": "2024-02-28T19:04:32.134932",
     "status": "completed"
    },
    "tags": []
   },
   "outputs": [
    {
     "data": {
      "text/plain": [
       "0.8448275862068966"
      ]
     },
     "execution_count": 37,
     "metadata": {},
     "output_type": "execute_result"
    }
   ],
   "source": [
    "accuracy_score(y_test, y_predict)"
   ]
  },
  {
   "cell_type": "code",
   "execution_count": 38,
   "id": "397c5d54",
   "metadata": {
    "execution": {
     "iopub.execute_input": "2024-02-28T19:04:32.226900Z",
     "iopub.status.busy": "2024-02-28T19:04:32.226325Z",
     "iopub.status.idle": "2024-02-28T19:04:32.237738Z",
     "shell.execute_reply": "2024-02-28T19:04:32.236468Z"
    },
    "papermill": {
     "duration": 0.042118,
     "end_time": "2024-02-28T19:04:32.239980",
     "exception": false,
     "start_time": "2024-02-28T19:04:32.197862",
     "status": "completed"
    },
    "tags": []
   },
   "outputs": [
    {
     "name": "stdout",
     "output_type": "stream",
     "text": [
      "              precision    recall  f1-score   support\n",
      "\n",
      "           0       0.86      0.75      0.80        24\n",
      "           1       0.84      0.91      0.87        34\n",
      "\n",
      "    accuracy                           0.84        58\n",
      "   macro avg       0.85      0.83      0.84        58\n",
      "weighted avg       0.85      0.84      0.84        58\n",
      "\n"
     ]
    }
   ],
   "source": [
    "print(classification_report(y_test, y_predict))"
   ]
  },
  {
   "cell_type": "code",
   "execution_count": 39,
   "id": "15b607db",
   "metadata": {
    "execution": {
     "iopub.execute_input": "2024-02-28T19:04:32.297098Z",
     "iopub.status.busy": "2024-02-28T19:04:32.296707Z",
     "iopub.status.idle": "2024-02-28T19:04:32.304573Z",
     "shell.execute_reply": "2024-02-28T19:04:32.303802Z"
    },
    "papermill": {
     "duration": 0.038833,
     "end_time": "2024-02-28T19:04:32.306592",
     "exception": false,
     "start_time": "2024-02-28T19:04:32.267759",
     "status": "completed"
    },
    "tags": []
   },
   "outputs": [
    {
     "data": {
      "text/plain": [
       "array([[18,  6],\n",
       "       [ 3, 31]])"
      ]
     },
     "execution_count": 39,
     "metadata": {},
     "output_type": "execute_result"
    }
   ],
   "source": [
    "confusion_matrix(y_test, y_predict)"
   ]
  },
  {
   "cell_type": "markdown",
   "id": "d4f81e44",
   "metadata": {
    "papermill": {
     "duration": 0.027175,
     "end_time": "2024-02-28T19:04:32.360596",
     "exception": false,
     "start_time": "2024-02-28T19:04:32.333421",
     "status": "completed"
    },
    "tags": []
   },
   "source": [
    "---"
   ]
  },
  {
   "cell_type": "code",
   "execution_count": 40,
   "id": "f1ea8ff7",
   "metadata": {
    "execution": {
     "iopub.execute_input": "2024-02-28T19:04:32.416510Z",
     "iopub.status.busy": "2024-02-28T19:04:32.416154Z",
     "iopub.status.idle": "2024-02-28T19:04:32.424560Z",
     "shell.execute_reply": "2024-02-28T19:04:32.423404Z"
    },
    "papermill": {
     "duration": 0.038898,
     "end_time": "2024-02-28T19:04:32.426632",
     "exception": false,
     "start_time": "2024-02-28T19:04:32.387734",
     "status": "completed"
    },
    "tags": []
   },
   "outputs": [],
   "source": [
    "def relatorio_ml(df, algoritmo, opt = 2):\n",
    "    X = df.drop('target', axis = 1)\n",
    "    y = df['target']\n",
    "    \n",
    "    X_train, X_test, y_train, y_test = train_test_split(X, y, test_size=0.2, random_state=42)\n",
    "    \n",
    "    if opt == 0:\n",
    "        ml = algoritmo(max_iter = 1000)\n",
    "    elif opt == 1:\n",
    "        ml = algoritmo(n_estimators = 1000)\n",
    "    elif opt == 2:\n",
    "        ml = algoritmo()\n",
    "    \n",
    "    ml.fit(X_train, y_train)\n",
    "    score_train = ml.score(X_train, y_train)\n",
    "    print(f'Acurácia treino: {score_train * 100:.2f}%')\n",
    "    score_test = ml.score(X_test, y_test)\n",
    "    print(f'Acurácia teste: {score_test * 100:.2f}%')\n",
    "    \n",
    "    y_previsto = log.predict(X_test)\n",
    "    print('---- CLASSIFICATION REPORT ----')\n",
    "    print(classification_report(y_test, y_previsto))\n",
    "    print(\"---- CONFUSION MATRIX ---\")\n",
    "    confusao = confusion_matrix(y_test, y_previsto)\n",
    "    sns.heatmap(confusao, annot = True, cmap = 'Blues')\n",
    "    \n",
    "    return score_train, score_test"
   ]
  },
  {
   "cell_type": "code",
   "execution_count": 41,
   "id": "92221247",
   "metadata": {
    "execution": {
     "iopub.execute_input": "2024-02-28T19:04:32.483611Z",
     "iopub.status.busy": "2024-02-28T19:04:32.482928Z",
     "iopub.status.idle": "2024-02-28T19:04:32.774803Z",
     "shell.execute_reply": "2024-02-28T19:04:32.773733Z"
    },
    "papermill": {
     "duration": 0.323311,
     "end_time": "2024-02-28T19:04:32.777079",
     "exception": false,
     "start_time": "2024-02-28T19:04:32.453768",
     "status": "completed"
    },
    "tags": []
   },
   "outputs": [
    {
     "name": "stderr",
     "output_type": "stream",
     "text": [
      "/opt/conda/lib/python3.10/site-packages/sklearn/linear_model/_logistic.py:458: ConvergenceWarning: lbfgs failed to converge (status=1):\n",
      "STOP: TOTAL NO. of ITERATIONS REACHED LIMIT.\n",
      "\n",
      "Increase the number of iterations (max_iter) or scale the data as shown in:\n",
      "    https://scikit-learn.org/stable/modules/preprocessing.html\n",
      "Please also refer to the documentation for alternative solver options:\n",
      "    https://scikit-learn.org/stable/modules/linear_model.html#logistic-regression\n",
      "  n_iter_i = _check_optimize_result(\n"
     ]
    },
    {
     "name": "stdout",
     "output_type": "stream",
     "text": [
      "Acurácia treino: 87.45%\n",
      "Acurácia teste: 84.48%\n",
      "---- CLASSIFICATION REPORT ----\n",
      "              precision    recall  f1-score   support\n",
      "\n",
      "           0       0.86      0.75      0.80        24\n",
      "           1       0.84      0.91      0.87        34\n",
      "\n",
      "    accuracy                           0.84        58\n",
      "   macro avg       0.85      0.83      0.84        58\n",
      "weighted avg       0.85      0.84      0.84        58\n",
      "\n",
      "---- CONFUSION MATRIX ---\n"
     ]
    },
    {
     "data": {
      "image/png": "[encoded data removed]",
      "text/plain": [
       "<Figure size 640x480 with 2 Axes>"
      ]
     },
     "metadata": {},
     "output_type": "display_data"
    }
   ],
   "source": [
    "log_train, log_test = relatorio_ml(hd4, LogisticRegression)"
   ]
  },
  {
   "cell_type": "code",
   "execution_count": 42,
   "id": "3936479a",
   "metadata": {
    "execution": {
     "iopub.execute_input": "2024-02-28T19:04:32.835044Z",
     "iopub.status.busy": "2024-02-28T19:04:32.834611Z",
     "iopub.status.idle": "2024-02-28T19:04:33.262460Z",
     "shell.execute_reply": "2024-02-28T19:04:33.261383Z"
    },
    "papermill": {
     "duration": 0.459993,
     "end_time": "2024-02-28T19:04:33.265161",
     "exception": false,
     "start_time": "2024-02-28T19:04:32.805168",
     "status": "completed"
    },
    "tags": []
   },
   "outputs": [
    {
     "name": "stdout",
     "output_type": "stream",
     "text": [
      "Acurácia treino: 100.00%\n",
      "Acurácia teste: 70.69%\n",
      "---- CLASSIFICATION REPORT ----\n",
      "              precision    recall  f1-score   support\n",
      "\n",
      "           0       0.86      0.75      0.80        24\n",
      "           1       0.84      0.91      0.87        34\n",
      "\n",
      "    accuracy                           0.84        58\n",
      "   macro avg       0.85      0.83      0.84        58\n",
      "weighted avg       0.85      0.84      0.84        58\n",
      "\n",
      "---- CONFUSION MATRIX ---\n"
     ]
    },
    {
     "data": {
      "image/png": "[encoded data removed]",
      "text/plain": [
       "<Figure size 640x480 with 2 Axes>"
      ]
     },
     "metadata": {},
     "output_type": "display_data"
    }
   ],
   "source": [
    "tree_train, tree_test = relatorio_ml(hd4, DecisionTreeClassifier)"
   ]
  },
  {
   "cell_type": "code",
   "execution_count": 43,
   "id": "c9dfed93",
   "metadata": {
    "execution": {
     "iopub.execute_input": "2024-02-28T19:04:33.324948Z",
     "iopub.status.busy": "2024-02-28T19:04:33.323938Z",
     "iopub.status.idle": "2024-02-28T19:04:33.708894Z",
     "shell.execute_reply": "2024-02-28T19:04:33.707708Z"
    },
    "papermill": {
     "duration": 0.416983,
     "end_time": "2024-02-28T19:04:33.711296",
     "exception": false,
     "start_time": "2024-02-28T19:04:33.294313",
     "status": "completed"
    },
    "tags": []
   },
   "outputs": [
    {
     "name": "stdout",
     "output_type": "stream",
     "text": [
      "Acurácia treino: 93.51%\n",
      "Acurácia teste: 82.76%\n",
      "---- CLASSIFICATION REPORT ----\n",
      "              precision    recall  f1-score   support\n",
      "\n",
      "           0       0.86      0.75      0.80        24\n",
      "           1       0.84      0.91      0.87        34\n",
      "\n",
      "    accuracy                           0.84        58\n",
      "   macro avg       0.85      0.83      0.84        58\n",
      "weighted avg       0.85      0.84      0.84        58\n",
      "\n",
      "---- CONFUSION MATRIX ---\n"
     ]
    },
    {
     "data": {
      "image/png": "[encoded data removed]",
      "text/plain": [
       "<Figure size 640x480 with 2 Axes>"
      ]
     },
     "metadata": {},
     "output_type": "display_data"
    }
   ],
   "source": [
    "ada_train, ada_test = relatorio_ml(hd4, AdaBoostClassifier)"
   ]
  },
  {
   "cell_type": "code",
   "execution_count": 44,
   "id": "8edd0047",
   "metadata": {
    "execution": {
     "iopub.execute_input": "2024-02-28T19:04:33.771126Z",
     "iopub.status.busy": "2024-02-28T19:04:33.770725Z",
     "iopub.status.idle": "2024-02-28T19:04:34.121827Z",
     "shell.execute_reply": "2024-02-28T19:04:34.120689Z"
    },
    "papermill": {
     "duration": 0.384304,
     "end_time": "2024-02-28T19:04:34.124206",
     "exception": false,
     "start_time": "2024-02-28T19:04:33.739902",
     "status": "completed"
    },
    "tags": []
   },
   "outputs": [
    {
     "name": "stdout",
     "output_type": "stream",
     "text": [
      "Acurácia treino: 77.06%\n",
      "Acurácia teste: 60.34%\n",
      "---- CLASSIFICATION REPORT ----\n",
      "              precision    recall  f1-score   support\n",
      "\n",
      "           0       0.86      0.75      0.80        24\n",
      "           1       0.84      0.91      0.87        34\n",
      "\n",
      "    accuracy                           0.84        58\n",
      "   macro avg       0.85      0.83      0.84        58\n",
      "weighted avg       0.85      0.84      0.84        58\n",
      "\n",
      "---- CONFUSION MATRIX ---\n"
     ]
    },
    {
     "data": {
      "image/png": "[encoded data removed]",
      "text/plain": [
       "<Figure size 640x480 with 2 Axes>"
      ]
     },
     "metadata": {},
     "output_type": "display_data"
    }
   ],
   "source": [
    "kn_train, kn_test = relatorio_ml(hd4, KNeighborsClassifier)"
   ]
  },
  {
   "cell_type": "code",
   "execution_count": 45,
   "id": "10583002",
   "metadata": {
    "execution": {
     "iopub.execute_input": "2024-02-28T19:04:34.184888Z",
     "iopub.status.busy": "2024-02-28T19:04:34.184225Z",
     "iopub.status.idle": "2024-02-28T19:04:34.647506Z",
     "shell.execute_reply": "2024-02-28T19:04:34.646426Z"
    },
    "papermill": {
     "duration": 0.496318,
     "end_time": "2024-02-28T19:04:34.649796",
     "exception": false,
     "start_time": "2024-02-28T19:04:34.153478",
     "status": "completed"
    },
    "tags": []
   },
   "outputs": [
    {
     "name": "stdout",
     "output_type": "stream",
     "text": [
      "Acurácia treino: 100.00%\n",
      "Acurácia teste: 77.59%\n",
      "---- CLASSIFICATION REPORT ----\n",
      "              precision    recall  f1-score   support\n",
      "\n",
      "           0       0.86      0.75      0.80        24\n",
      "           1       0.84      0.91      0.87        34\n",
      "\n",
      "    accuracy                           0.84        58\n",
      "   macro avg       0.85      0.83      0.84        58\n",
      "weighted avg       0.85      0.84      0.84        58\n",
      "\n",
      "---- CONFUSION MATRIX ---\n"
     ]
    },
    {
     "data": {
      "image/png": "[encoded data removed]",
      "text/plain": [
       "<Figure size 640x480 with 2 Axes>"
      ]
     },
     "metadata": {},
     "output_type": "display_data"
    }
   ],
   "source": [
    "rand_train, rand_test = relatorio_ml(hd4, RandomForestClassifier)"
   ]
  },
  {
   "cell_type": "code",
   "execution_count": 46,
   "id": "77b2fd28",
   "metadata": {
    "execution": {
     "iopub.execute_input": "2024-02-28T19:04:34.712227Z",
     "iopub.status.busy": "2024-02-28T19:04:34.711852Z",
     "iopub.status.idle": "2024-02-28T19:04:34.729253Z",
     "shell.execute_reply": "2024-02-28T19:04:34.728163Z"
    },
    "papermill": {
     "duration": 0.051902,
     "end_time": "2024-02-28T19:04:34.731627",
     "exception": false,
     "start_time": "2024-02-28T19:04:34.679725",
     "status": "completed"
    },
    "tags": []
   },
   "outputs": [
    {
     "data": {
      "text/html": [
       "<div>\n",
       "<style scoped>\n",
       "    .dataframe tbody tr th:only-of-type {\n",
       "        vertical-align: middle;\n",
       "    }\n",
       "\n",
       "    .dataframe tbody tr th {\n",
       "        vertical-align: top;\n",
       "    }\n",
       "\n",
       "    .dataframe thead th {\n",
       "        text-align: right;\n",
       "    }\n",
       "</style>\n",
       "<table border=\"1\" class=\"dataframe\">\n",
       "  <thead>\n",
       "    <tr style=\"text-align: right;\">\n",
       "      <th></th>\n",
       "      <th>Models</th>\n",
       "      <th>Acurácia Treino</th>\n",
       "      <th>Acurácia Teste</th>\n",
       "    </tr>\n",
       "  </thead>\n",
       "  <tbody>\n",
       "    <tr>\n",
       "      <th>0</th>\n",
       "      <td>Logistic Regression</td>\n",
       "      <td>87.45</td>\n",
       "      <td>84.48</td>\n",
       "    </tr>\n",
       "    <tr>\n",
       "      <th>4</th>\n",
       "      <td>Ada Boost</td>\n",
       "      <td>93.51</td>\n",
       "      <td>82.76</td>\n",
       "    </tr>\n",
       "    <tr>\n",
       "      <th>3</th>\n",
       "      <td>Random Forest Classisfier</td>\n",
       "      <td>100.00</td>\n",
       "      <td>77.59</td>\n",
       "    </tr>\n",
       "    <tr>\n",
       "      <th>1</th>\n",
       "      <td>Decision Tree</td>\n",
       "      <td>100.00</td>\n",
       "      <td>70.69</td>\n",
       "    </tr>\n",
       "    <tr>\n",
       "      <th>2</th>\n",
       "      <td>Kneighbors</td>\n",
       "      <td>77.06</td>\n",
       "      <td>60.34</td>\n",
       "    </tr>\n",
       "  </tbody>\n",
       "</table>\n",
       "</div>"
      ],
      "text/plain": [
       "                      Models  Acurácia Treino  Acurácia Teste\n",
       "0        Logistic Regression            87.45           84.48\n",
       "4                  Ada Boost            93.51           82.76\n",
       "3  Random Forest Classisfier           100.00           77.59\n",
       "1              Decision Tree           100.00           70.69\n",
       "2                 Kneighbors            77.06           60.34"
      ]
     },
     "execution_count": 46,
     "metadata": {},
     "output_type": "execute_result"
    }
   ],
   "source": [
    "data = { 'Models': ['Logistic Regression', 'Decision Tree', 'Kneighbors', 'Random Forest Classisfier', 'Ada Boost'],\n",
    "         'Acurácia Treino': [round(log_train * 100, 2), round(tree_train * 100, 2), round(kn_train * 100, 2),\n",
    "                            round(rand_train * 100, 2), round(ada_train * 100, 2)],\n",
    "         'Acurácia Teste': [round(log_test * 100, 2), round(tree_test * 100, 2), round(kn_test * 100, 2),\n",
    "                            round(rand_test * 100, 2), round(ada_test * 100, 2)],\n",
    "        }\n",
    "       \n",
    "df = pd.DataFrame(data)\n",
    "df.sort_values(by='Acurácia Teste', ascending=False, inplace=True)\n",
    "df"
   ]
  },
  {
   "cell_type": "code",
   "execution_count": 47,
   "id": "83609e4d",
   "metadata": {
    "execution": {
     "iopub.execute_input": "2024-02-28T19:04:34.793758Z",
     "iopub.status.busy": "2024-02-28T19:04:34.792768Z",
     "iopub.status.idle": "2024-02-28T19:04:34.801714Z",
     "shell.execute_reply": "2024-02-28T19:04:34.800910Z"
    },
    "papermill": {
     "duration": 0.042854,
     "end_time": "2024-02-28T19:04:34.803814",
     "exception": false,
     "start_time": "2024-02-28T19:04:34.760960",
     "status": "completed"
    },
    "tags": []
   },
   "outputs": [],
   "source": [
    "def relatorio_ml_scaler(df, algoritmo, opt = 2):\n",
    "    X = df.drop('target', axis = 1)\n",
    "    y = df['target']\n",
    "    \n",
    "    X_train, X_test, y_train, y_test = train_test_split(X, y, test_size=0.2, random_state=42)\n",
    "    \n",
    "    scaler = StandardScaler()\n",
    "    cols_scaler = ['age', 'trestbps', 'chol', 'thalach', 'oldpeak']\n",
    "    X_train[cols_scaler] = scaler.fit_transform(X_train[cols_scaler])\n",
    "    X_test[cols_scaler] = scaler.transform(X_test[cols_scaler])\n",
    "\n",
    "    \n",
    "    if opt == 0:\n",
    "        ml = algoritmo(max_iter = 1000)\n",
    "    elif opt == 1:\n",
    "        ml = algoritmo(n_estimators = 1000)\n",
    "    elif opt == 2:\n",
    "        ml = algoritmo()\n",
    "    \n",
    "    ml.fit(X_train, y_train)\n",
    "    score_train = ml.score(X_train, y_train)\n",
    "    print(f'Acurácia treino: {score_train * 100:.2f}%')\n",
    "    score_test = ml.score(X_test, y_test)\n",
    "    print(f'Acurácia teste: {score_test * 100:.2f}%')\n",
    "    \n",
    "    y_previsto = log.predict(X_test)\n",
    "    print('---- CLASSIFICATION REPORT ----')\n",
    "    print(classification_report(y_test, y_previsto))\n",
    "    print(\"---- CONFUSION MATRIX ---\")\n",
    "    confusao = confusion_matrix(y_test, y_previsto)\n",
    "    sns.heatmap(confusao, annot = True, cmap = 'Blues')\n",
    "    \n",
    "    return score_train, score_test\n"
   ]
  },
  {
   "cell_type": "code",
   "execution_count": 48,
   "id": "a6fe858f",
   "metadata": {
    "execution": {
     "iopub.execute_input": "2024-02-28T19:04:34.866942Z",
     "iopub.status.busy": "2024-02-28T19:04:34.866516Z",
     "iopub.status.idle": "2024-02-28T19:04:35.189260Z",
     "shell.execute_reply": "2024-02-28T19:04:35.187813Z"
    },
    "papermill": {
     "duration": 0.357265,
     "end_time": "2024-02-28T19:04:35.191691",
     "exception": false,
     "start_time": "2024-02-28T19:04:34.834426",
     "status": "completed"
    },
    "tags": []
   },
   "outputs": [
    {
     "name": "stdout",
     "output_type": "stream",
     "text": [
      "Acurácia treino: 87.45%\n",
      "Acurácia teste: 84.48%\n",
      "---- CLASSIFICATION REPORT ----\n",
      "              precision    recall  f1-score   support\n",
      "\n",
      "           0       0.93      0.58      0.72        24\n",
      "           1       0.77      0.97      0.86        34\n",
      "\n",
      "    accuracy                           0.81        58\n",
      "   macro avg       0.85      0.78      0.79        58\n",
      "weighted avg       0.84      0.81      0.80        58\n",
      "\n",
      "---- CONFUSION MATRIX ---\n"
     ]
    },
    {
     "data": {
      "image/png": "[encoded data removed]",
      "text/plain": [
       "<Figure size 640x480 with 2 Axes>"
      ]
     },
     "metadata": {},
     "output_type": "display_data"
    }
   ],
   "source": [
    "log_train_scaler, log_test_scaler = relatorio_ml_scaler(hd4, LogisticRegression, opt = 0)"
   ]
  },
  {
   "cell_type": "code",
   "execution_count": 49,
   "id": "003c6ef8",
   "metadata": {
    "execution": {
     "iopub.execute_input": "2024-02-28T19:04:35.252415Z",
     "iopub.status.busy": "2024-02-28T19:04:35.252044Z",
     "iopub.status.idle": "2024-02-28T19:04:35.278997Z",
     "shell.execute_reply": "2024-02-28T19:04:35.277979Z"
    },
    "papermill": {
     "duration": 0.06016,
     "end_time": "2024-02-28T19:04:35.281249",
     "exception": false,
     "start_time": "2024-02-28T19:04:35.221089",
     "status": "completed"
    },
    "tags": []
   },
   "outputs": [
    {
     "data": {
      "text/html": [
       "<div>\n",
       "<style scoped>\n",
       "    .dataframe tbody tr th:only-of-type {\n",
       "        vertical-align: middle;\n",
       "    }\n",
       "\n",
       "    .dataframe tbody tr th {\n",
       "        vertical-align: top;\n",
       "    }\n",
       "\n",
       "    .dataframe thead th {\n",
       "        text-align: right;\n",
       "    }\n",
       "</style>\n",
       "<table border=\"1\" class=\"dataframe\">\n",
       "  <thead>\n",
       "    <tr style=\"text-align: right;\">\n",
       "      <th></th>\n",
       "      <th>age</th>\n",
       "      <th>trestbps</th>\n",
       "      <th>chol</th>\n",
       "      <th>thalach</th>\n",
       "      <th>oldpeak</th>\n",
       "      <th>sex_0</th>\n",
       "      <th>sex_1</th>\n",
       "      <th>cp_0</th>\n",
       "      <th>cp_1</th>\n",
       "      <th>cp_2</th>\n",
       "      <th>...</th>\n",
       "      <th>slope_2</th>\n",
       "      <th>ca_0</th>\n",
       "      <th>ca_1</th>\n",
       "      <th>ca_2</th>\n",
       "      <th>ca_3</th>\n",
       "      <th>ca_4</th>\n",
       "      <th>thal_0</th>\n",
       "      <th>thal_1</th>\n",
       "      <th>thal_2</th>\n",
       "      <th>thal_3</th>\n",
       "    </tr>\n",
       "  </thead>\n",
       "  <tbody>\n",
       "    <tr>\n",
       "      <th>109</th>\n",
       "      <td>54</td>\n",
       "      <td>110</td>\n",
       "      <td>206</td>\n",
       "      <td>108</td>\n",
       "      <td>0.0</td>\n",
       "      <td>False</td>\n",
       "      <td>True</td>\n",
       "      <td>True</td>\n",
       "      <td>False</td>\n",
       "      <td>False</td>\n",
       "      <td>...</td>\n",
       "      <td>False</td>\n",
       "      <td>False</td>\n",
       "      <td>True</td>\n",
       "      <td>False</td>\n",
       "      <td>False</td>\n",
       "      <td>False</td>\n",
       "      <td>False</td>\n",
       "      <td>False</td>\n",
       "      <td>True</td>\n",
       "      <td>False</td>\n",
       "    </tr>\n",
       "    <tr>\n",
       "      <th>74</th>\n",
       "      <td>48</td>\n",
       "      <td>130</td>\n",
       "      <td>256</td>\n",
       "      <td>150</td>\n",
       "      <td>0.0</td>\n",
       "      <td>False</td>\n",
       "      <td>True</td>\n",
       "      <td>True</td>\n",
       "      <td>False</td>\n",
       "      <td>False</td>\n",
       "      <td>...</td>\n",
       "      <td>True</td>\n",
       "      <td>False</td>\n",
       "      <td>False</td>\n",
       "      <td>True</td>\n",
       "      <td>False</td>\n",
       "      <td>False</td>\n",
       "      <td>False</td>\n",
       "      <td>False</td>\n",
       "      <td>False</td>\n",
       "      <td>True</td>\n",
       "    </tr>\n",
       "    <tr>\n",
       "      <th>71</th>\n",
       "      <td>61</td>\n",
       "      <td>140</td>\n",
       "      <td>207</td>\n",
       "      <td>138</td>\n",
       "      <td>1.9</td>\n",
       "      <td>False</td>\n",
       "      <td>True</td>\n",
       "      <td>True</td>\n",
       "      <td>False</td>\n",
       "      <td>False</td>\n",
       "      <td>...</td>\n",
       "      <td>True</td>\n",
       "      <td>False</td>\n",
       "      <td>True</td>\n",
       "      <td>False</td>\n",
       "      <td>False</td>\n",
       "      <td>False</td>\n",
       "      <td>False</td>\n",
       "      <td>False</td>\n",
       "      <td>False</td>\n",
       "      <td>True</td>\n",
       "    </tr>\n",
       "    <tr>\n",
       "      <th>94</th>\n",
       "      <td>62</td>\n",
       "      <td>128</td>\n",
       "      <td>208</td>\n",
       "      <td>140</td>\n",
       "      <td>0.0</td>\n",
       "      <td>False</td>\n",
       "      <td>True</td>\n",
       "      <td>False</td>\n",
       "      <td>True</td>\n",
       "      <td>False</td>\n",
       "      <td>...</td>\n",
       "      <td>True</td>\n",
       "      <td>True</td>\n",
       "      <td>False</td>\n",
       "      <td>False</td>\n",
       "      <td>False</td>\n",
       "      <td>False</td>\n",
       "      <td>False</td>\n",
       "      <td>False</td>\n",
       "      <td>True</td>\n",
       "      <td>False</td>\n",
       "    </tr>\n",
       "    <tr>\n",
       "      <th>26</th>\n",
       "      <td>44</td>\n",
       "      <td>130</td>\n",
       "      <td>233</td>\n",
       "      <td>179</td>\n",
       "      <td>0.4</td>\n",
       "      <td>False</td>\n",
       "      <td>True</td>\n",
       "      <td>False</td>\n",
       "      <td>False</td>\n",
       "      <td>True</td>\n",
       "      <td>...</td>\n",
       "      <td>True</td>\n",
       "      <td>True</td>\n",
       "      <td>False</td>\n",
       "      <td>False</td>\n",
       "      <td>False</td>\n",
       "      <td>False</td>\n",
       "      <td>False</td>\n",
       "      <td>False</td>\n",
       "      <td>True</td>\n",
       "      <td>False</td>\n",
       "    </tr>\n",
       "    <tr>\n",
       "      <th>...</th>\n",
       "      <td>...</td>\n",
       "      <td>...</td>\n",
       "      <td>...</td>\n",
       "      <td>...</td>\n",
       "      <td>...</td>\n",
       "      <td>...</td>\n",
       "      <td>...</td>\n",
       "      <td>...</td>\n",
       "      <td>...</td>\n",
       "      <td>...</td>\n",
       "      <td>...</td>\n",
       "      <td>...</td>\n",
       "      <td>...</td>\n",
       "      <td>...</td>\n",
       "      <td>...</td>\n",
       "      <td>...</td>\n",
       "      <td>...</td>\n",
       "      <td>...</td>\n",
       "      <td>...</td>\n",
       "      <td>...</td>\n",
       "      <td>...</td>\n",
       "    </tr>\n",
       "    <tr>\n",
       "      <th>286</th>\n",
       "      <td>64</td>\n",
       "      <td>140</td>\n",
       "      <td>313</td>\n",
       "      <td>133</td>\n",
       "      <td>0.2</td>\n",
       "      <td>True</td>\n",
       "      <td>False</td>\n",
       "      <td>False</td>\n",
       "      <td>False</td>\n",
       "      <td>True</td>\n",
       "      <td>...</td>\n",
       "      <td>True</td>\n",
       "      <td>True</td>\n",
       "      <td>False</td>\n",
       "      <td>False</td>\n",
       "      <td>False</td>\n",
       "      <td>False</td>\n",
       "      <td>False</td>\n",
       "      <td>False</td>\n",
       "      <td>False</td>\n",
       "      <td>True</td>\n",
       "    </tr>\n",
       "    <tr>\n",
       "      <th>80</th>\n",
       "      <td>50</td>\n",
       "      <td>140</td>\n",
       "      <td>233</td>\n",
       "      <td>163</td>\n",
       "      <td>0.6</td>\n",
       "      <td>False</td>\n",
       "      <td>True</td>\n",
       "      <td>False</td>\n",
       "      <td>False</td>\n",
       "      <td>True</td>\n",
       "      <td>...</td>\n",
       "      <td>False</td>\n",
       "      <td>False</td>\n",
       "      <td>True</td>\n",
       "      <td>False</td>\n",
       "      <td>False</td>\n",
       "      <td>False</td>\n",
       "      <td>False</td>\n",
       "      <td>False</td>\n",
       "      <td>False</td>\n",
       "      <td>True</td>\n",
       "    </tr>\n",
       "    <tr>\n",
       "      <th>129</th>\n",
       "      <td>57</td>\n",
       "      <td>140</td>\n",
       "      <td>192</td>\n",
       "      <td>148</td>\n",
       "      <td>0.4</td>\n",
       "      <td>False</td>\n",
       "      <td>True</td>\n",
       "      <td>True</td>\n",
       "      <td>False</td>\n",
       "      <td>False</td>\n",
       "      <td>...</td>\n",
       "      <td>False</td>\n",
       "      <td>True</td>\n",
       "      <td>False</td>\n",
       "      <td>False</td>\n",
       "      <td>False</td>\n",
       "      <td>False</td>\n",
       "      <td>False</td>\n",
       "      <td>True</td>\n",
       "      <td>False</td>\n",
       "      <td>False</td>\n",
       "    </tr>\n",
       "    <tr>\n",
       "      <th>599</th>\n",
       "      <td>63</td>\n",
       "      <td>140</td>\n",
       "      <td>195</td>\n",
       "      <td>179</td>\n",
       "      <td>0.0</td>\n",
       "      <td>True</td>\n",
       "      <td>False</td>\n",
       "      <td>False</td>\n",
       "      <td>True</td>\n",
       "      <td>False</td>\n",
       "      <td>...</td>\n",
       "      <td>True</td>\n",
       "      <td>False</td>\n",
       "      <td>False</td>\n",
       "      <td>True</td>\n",
       "      <td>False</td>\n",
       "      <td>False</td>\n",
       "      <td>False</td>\n",
       "      <td>False</td>\n",
       "      <td>True</td>\n",
       "      <td>False</td>\n",
       "    </tr>\n",
       "    <tr>\n",
       "      <th>124</th>\n",
       "      <td>61</td>\n",
       "      <td>120</td>\n",
       "      <td>260</td>\n",
       "      <td>140</td>\n",
       "      <td>3.6</td>\n",
       "      <td>False</td>\n",
       "      <td>True</td>\n",
       "      <td>True</td>\n",
       "      <td>False</td>\n",
       "      <td>False</td>\n",
       "      <td>...</td>\n",
       "      <td>False</td>\n",
       "      <td>False</td>\n",
       "      <td>True</td>\n",
       "      <td>False</td>\n",
       "      <td>False</td>\n",
       "      <td>False</td>\n",
       "      <td>False</td>\n",
       "      <td>False</td>\n",
       "      <td>False</td>\n",
       "      <td>True</td>\n",
       "    </tr>\n",
       "  </tbody>\n",
       "</table>\n",
       "<p>231 rows × 30 columns</p>\n",
       "</div>"
      ],
      "text/plain": [
       "     age  trestbps  chol  thalach  oldpeak  sex_0  sex_1   cp_0   cp_1   cp_2  \\\n",
       "109   54       110   206      108      0.0  False   True   True  False  False   \n",
       "74    48       130   256      150      0.0  False   True   True  False  False   \n",
       "71    61       140   207      138      1.9  False   True   True  False  False   \n",
       "94    62       128   208      140      0.0  False   True  False   True  False   \n",
       "26    44       130   233      179      0.4  False   True  False  False   True   \n",
       "..   ...       ...   ...      ...      ...    ...    ...    ...    ...    ...   \n",
       "286   64       140   313      133      0.2   True  False  False  False   True   \n",
       "80    50       140   233      163      0.6  False   True  False  False   True   \n",
       "129   57       140   192      148      0.4  False   True   True  False  False   \n",
       "599   63       140   195      179      0.0   True  False  False   True  False   \n",
       "124   61       120   260      140      3.6  False   True   True  False  False   \n",
       "\n",
       "     ...  slope_2   ca_0   ca_1   ca_2   ca_3   ca_4  thal_0  thal_1  thal_2  \\\n",
       "109  ...    False  False   True  False  False  False   False   False    True   \n",
       "74   ...     True  False  False   True  False  False   False   False   False   \n",
       "71   ...     True  False   True  False  False  False   False   False   False   \n",
       "94   ...     True   True  False  False  False  False   False   False    True   \n",
       "26   ...     True   True  False  False  False  False   False   False    True   \n",
       "..   ...      ...    ...    ...    ...    ...    ...     ...     ...     ...   \n",
       "286  ...     True   True  False  False  False  False   False   False   False   \n",
       "80   ...    False  False   True  False  False  False   False   False   False   \n",
       "129  ...    False   True  False  False  False  False   False    True   False   \n",
       "599  ...     True  False  False   True  False  False   False   False    True   \n",
       "124  ...    False  False   True  False  False  False   False   False   False   \n",
       "\n",
       "     thal_3  \n",
       "109   False  \n",
       "74     True  \n",
       "71     True  \n",
       "94    False  \n",
       "26    False  \n",
       "..      ...  \n",
       "286    True  \n",
       "80     True  \n",
       "129   False  \n",
       "599   False  \n",
       "124    True  \n",
       "\n",
       "[231 rows x 30 columns]"
      ]
     },
     "execution_count": 49,
     "metadata": {},
     "output_type": "execute_result"
    }
   ],
   "source": [
    "X_train"
   ]
  },
  {
   "cell_type": "code",
   "execution_count": 50,
   "id": "9f272fc8",
   "metadata": {
    "execution": {
     "iopub.execute_input": "2024-02-28T19:04:35.343495Z",
     "iopub.status.busy": "2024-02-28T19:04:35.343117Z",
     "iopub.status.idle": "2024-02-28T19:04:35.354265Z",
     "shell.execute_reply": "2024-02-28T19:04:35.353235Z"
    },
    "papermill": {
     "duration": 0.044973,
     "end_time": "2024-02-28T19:04:35.356262",
     "exception": false,
     "start_time": "2024-02-28T19:04:35.311289",
     "status": "completed"
    },
    "tags": []
   },
   "outputs": [
    {
     "data": {
      "text/html": [
       "<div>\n",
       "<style scoped>\n",
       "    .dataframe tbody tr th:only-of-type {\n",
       "        vertical-align: middle;\n",
       "    }\n",
       "\n",
       "    .dataframe tbody tr th {\n",
       "        vertical-align: top;\n",
       "    }\n",
       "\n",
       "    .dataframe thead th {\n",
       "        text-align: right;\n",
       "    }\n",
       "</style>\n",
       "<table border=\"1\" class=\"dataframe\">\n",
       "  <thead>\n",
       "    <tr style=\"text-align: right;\">\n",
       "      <th></th>\n",
       "      <th>Models</th>\n",
       "      <th>Acurácia Treino</th>\n",
       "      <th>Acurácia Teste</th>\n",
       "    </tr>\n",
       "  </thead>\n",
       "  <tbody>\n",
       "    <tr>\n",
       "      <th>0</th>\n",
       "      <td>Logistic Regression</td>\n",
       "      <td>87.45</td>\n",
       "      <td>84.48</td>\n",
       "    </tr>\n",
       "    <tr>\n",
       "      <th>4</th>\n",
       "      <td>Ada Boost</td>\n",
       "      <td>93.51</td>\n",
       "      <td>82.76</td>\n",
       "    </tr>\n",
       "    <tr>\n",
       "      <th>3</th>\n",
       "      <td>Random Forest Classisfier</td>\n",
       "      <td>100.00</td>\n",
       "      <td>77.59</td>\n",
       "    </tr>\n",
       "    <tr>\n",
       "      <th>1</th>\n",
       "      <td>Decision Tree</td>\n",
       "      <td>100.00</td>\n",
       "      <td>70.69</td>\n",
       "    </tr>\n",
       "    <tr>\n",
       "      <th>2</th>\n",
       "      <td>Kneighbors</td>\n",
       "      <td>77.06</td>\n",
       "      <td>60.34</td>\n",
       "    </tr>\n",
       "  </tbody>\n",
       "</table>\n",
       "</div>"
      ],
      "text/plain": [
       "                      Models  Acurácia Treino  Acurácia Teste\n",
       "0        Logistic Regression            87.45           84.48\n",
       "4                  Ada Boost            93.51           82.76\n",
       "3  Random Forest Classisfier           100.00           77.59\n",
       "1              Decision Tree           100.00           70.69\n",
       "2                 Kneighbors            77.06           60.34"
      ]
     },
     "execution_count": 50,
     "metadata": {},
     "output_type": "execute_result"
    }
   ],
   "source": [
    "df"
   ]
  },
  {
   "cell_type": "code",
   "execution_count": null,
   "id": "1785bb3a",
   "metadata": {
    "papermill": {
     "duration": 0.030207,
     "end_time": "2024-02-28T19:04:35.416670",
     "exception": false,
     "start_time": "2024-02-28T19:04:35.386463",
     "status": "completed"
    },
    "tags": []
   },
   "outputs": [],
   "source": []
  }
 ],
 "metadata": {
  "kaggle": {
   "accelerator": "none",
   "dataSources": [
    {
     "datasetId": 216167,
     "sourceId": 477177,
     "sourceType": "datasetVersion"
    }
   ],
   "dockerImageVersionId": 30646,
   "isGpuEnabled": false,
   "isInternetEnabled": false,
   "language": "python",
   "sourceType": "notebook"
  },
  "kernelspec": {
   "display_name": "Python 3",
   "language": "python",
   "name": "python3"
  },
  "language_info": {
   "codemirror_mode": {
    "name": "ipython",
    "version": 3
   },
   "file_extension": ".py",
   "mimetype": "text/x-python",
   "name": "python",
   "nbconvert_exporter": "python",
   "pygments_lexer": "ipython3",
   "version": "3.10.13"
  },
  "papermill": {
   "default_parameters": {},
   "duration": 19.818923,
   "end_time": "2024-02-28T19:04:36.168583",
   "environment_variables": {},
   "exception": null,
   "input_path": "__notebook__.ipynb",
   "output_path": "__notebook__.ipynb",
   "parameters": {},
   "start_time": "2024-02-28T19:04:16.349660",
   "version": "2.5.0"
  }
 },
 "nbformat": 4,
 "nbformat_minor": 5
}
